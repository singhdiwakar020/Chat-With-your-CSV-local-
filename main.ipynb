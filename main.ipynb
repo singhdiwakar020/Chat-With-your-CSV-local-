{
 "cells": [
  {
   "cell_type": "code",
   "execution_count": 2,
   "metadata": {},
   "outputs": [
    {
     "name": "stdout",
     "output_type": "stream",
     "text": [
      "hello world\n"
     ]
    }
   ],
   "source": [
    "print(\"hello world\")"
   ]
  },
  {
   "cell_type": "code",
   "execution_count": null,
   "metadata": {},
   "outputs": [],
   "source": []
  },
  {
   "cell_type": "code",
   "execution_count": 3,
   "metadata": {},
   "outputs": [],
   "source": [
    "from langchain.document_loaders import CSVLoader\n",
    "from langchain.indexes import VectorstoreIndexCreator\n",
    "from langchain.chains import RetrievalQA\n",
    "from langchain.llms import OpenAI\n",
    "import os"
   ]
  },
  {
   "cell_type": "code",
   "execution_count": 4,
   "metadata": {},
   "outputs": [],
   "source": [
    "from langchain.document_loaders import CSVLoader"
   ]
  },
  {
   "cell_type": "code",
   "execution_count": 5,
   "metadata": {},
   "outputs": [],
   "source": [
    "# Load the documents\n",
    "loader = CSVLoader(file_path=r'C:\\Users\\Administrator\\Downloads\\Exported-Data-for-Real-Estate.csv')"
   ]
  },
  {
   "cell_type": "code",
   "execution_count": 6,
   "metadata": {},
   "outputs": [],
   "source": [
    " data = loader.load()"
   ]
  },
  {
   "cell_type": "code",
   "execution_count": 7,
   "metadata": {},
   "outputs": [
    {
     "data": {
      "text/plain": [
       "[Document(page_content='Real Estate ID: RE1000\\nReal Estate Address: Beirut RE1000\\nReal Estate City: Beirut\\nReal Estate Country: Lebanon\\nReal Estate Owner: MoE\\nReal Estate Type: Floor\\nReal Estate Ownership Date: 3/26/2011\\nReal Estate Ownership Expiry Date: 3/5/2037\\nReal Estate Size (SQM): 487\\nReal Estate Status: Not Available\\nReal Estate Has Parking: No\\nReal Estate Maximum Capacity: 63\\nReal Estate Furnished: Yes\\nReal Estate with Parking: No\\nReal Estate Rent Price: 2882\\nReal Estate Parking Space: 11\\nReal Estate Water Services: Yes\\nReal Estate Electricity Services: No\\nReal Estate Number of Rooms: 16', metadata={'source': 'C:\\\\Users\\\\Administrator\\\\Downloads\\\\Exported-Data-for-Real-Estate.csv', 'row': 0}),\n",
       " Document(page_content='Real Estate ID: RE1001\\nReal Estate Address: Tripoli RE1001\\nReal Estate City: Tripoli\\nReal Estate Country: Lebanon\\nReal Estate Owner: SPG\\nReal Estate Type: Floor\\nReal Estate Ownership Date: 12/26/2013\\nReal Estate Ownership Expiry Date: 11/30/2032\\nReal Estate Size (SQM): 3948\\nReal Estate Status: Available\\nReal Estate Has Parking: Yes\\nReal Estate Maximum Capacity: 73\\nReal Estate Furnished: Yes\\nReal Estate with Parking: Yes\\nReal Estate Rent Price: 13718\\nReal Estate Parking Space: 13\\nReal Estate Water Services: Yes\\nReal Estate Electricity Services: No\\nReal Estate Number of Rooms: 13', metadata={'source': 'C:\\\\Users\\\\Administrator\\\\Downloads\\\\Exported-Data-for-Real-Estate.csv', 'row': 1}),\n",
       " Document(page_content='Real Estate ID: RE1002\\nReal Estate Address: Saida RE1002\\nReal Estate City: Saida\\nReal Estate Country: Lebanon\\nReal Estate Owner: MOJ\\nReal Estate Type: Land\\nReal Estate Ownership Date: 6/16/2014\\nReal Estate Ownership Expiry Date: 5/27/2036\\nReal Estate Size (SQM): 4061\\nReal Estate Status: Not Available\\nReal Estate Has Parking: No\\nReal Estate Maximum Capacity: 72\\nReal Estate Furnished: Yes\\nReal Estate with Parking: Yes\\nReal Estate Rent Price: 8802\\nReal Estate Parking Space: 29\\nReal Estate Water Services: No\\nReal Estate Electricity Services: No\\nReal Estate Number of Rooms: 0', metadata={'source': 'C:\\\\Users\\\\Administrator\\\\Downloads\\\\Exported-Data-for-Real-Estate.csv', 'row': 2}),\n",
       " Document(page_content='Real Estate ID: RE1003\\nReal Estate Address: Sour RE1003\\nReal Estate City: Sour\\nReal Estate Country: Lebanon\\nReal Estate Owner: SPG\\nReal Estate Type: Floor\\nReal Estate Ownership Date: 11/21/2015\\nReal Estate Ownership Expiry Date: 3/20/2028\\nReal Estate Size (SQM): 1897\\nReal Estate Status: Available\\nReal Estate Has Parking: No\\nReal Estate Maximum Capacity: 46\\nReal Estate Furnished: No\\nReal Estate with Parking: Yes\\nReal Estate Rent Price: 1645\\nReal Estate Parking Space: 31\\nReal Estate Water Services: No\\nReal Estate Electricity Services: Yes\\nReal Estate Number of Rooms: 14', metadata={'source': 'C:\\\\Users\\\\Administrator\\\\Downloads\\\\Exported-Data-for-Real-Estate.csv', 'row': 3}),\n",
       " Document(page_content='Real Estate ID: RE1004\\nReal Estate Address: Saida RE1004\\nReal Estate City: Saida\\nReal Estate Country: Lebanon\\nReal Estate Owner: SPG\\nReal Estate Type: Floor\\nReal Estate Ownership Date: 2/21/2013\\nReal Estate Ownership Expiry Date: 12/23/2036\\nReal Estate Size (SQM): 1582\\nReal Estate Status: Available\\nReal Estate Has Parking: Yes\\nReal Estate Maximum Capacity: 6\\nReal Estate Furnished: Yes\\nReal Estate with Parking: Yes\\nReal Estate Rent Price: 5039\\nReal Estate Parking Space: 46\\nReal Estate Water Services: No\\nReal Estate Electricity Services: No\\nReal Estate Number of Rooms: 3', metadata={'source': 'C:\\\\Users\\\\Administrator\\\\Downloads\\\\Exported-Data-for-Real-Estate.csv', 'row': 4}),\n",
       " Document(page_content='Real Estate ID: RE1005\\nReal Estate Address: Sour RE1005\\nReal Estate City: Sour\\nReal Estate Country: Lebanon\\nReal Estate Owner: MOJ\\nReal Estate Type: Floor\\nReal Estate Ownership Date: 2/3/2017\\nReal Estate Ownership Expiry Date: 4/13/2037\\nReal Estate Size (SQM): 1070\\nReal Estate Status: Not Available\\nReal Estate Has Parking: No\\nReal Estate Maximum Capacity: 48\\nReal Estate Furnished: No\\nReal Estate with Parking: Yes\\nReal Estate Rent Price: 10635\\nReal Estate Parking Space: 18\\nReal Estate Water Services: Yes\\nReal Estate Electricity Services: Yes\\nReal Estate Number of Rooms: 18', metadata={'source': 'C:\\\\Users\\\\Administrator\\\\Downloads\\\\Exported-Data-for-Real-Estate.csv', 'row': 5}),\n",
       " Document(page_content='Real Estate ID: RE1006\\nReal Estate Address: Sour RE1006\\nReal Estate City: Sour\\nReal Estate Country: Lebanon\\nReal Estate Owner: MOE\\nReal Estate Type: Floor\\nReal Estate Ownership Date: 5/25/2015\\nReal Estate Ownership Expiry Date: 8/8/2036\\nReal Estate Size (SQM): 991\\nReal Estate Status: Not Available\\nReal Estate Has Parking: Yes\\nReal Estate Maximum Capacity: 60\\nReal Estate Furnished: Yes\\nReal Estate with Parking: Yes\\nReal Estate Rent Price: 17246\\nReal Estate Parking Space: 4\\nReal Estate Water Services: Yes\\nReal Estate Electricity Services: No\\nReal Estate Number of Rooms: 14', metadata={'source': 'C:\\\\Users\\\\Administrator\\\\Downloads\\\\Exported-Data-for-Real-Estate.csv', 'row': 6}),\n",
       " Document(page_content='Real Estate ID: RE1007\\nReal Estate Address: Sour RE1007\\nReal Estate City: Sour\\nReal Estate Country: Lebanon\\nReal Estate Owner: RC\\nReal Estate Type: Floor\\nReal Estate Ownership Date: 5/27/2018\\nReal Estate Ownership Expiry Date: 4/8/2037\\nReal Estate Size (SQM): 2953\\nReal Estate Status: Not Available\\nReal Estate Has Parking: No\\nReal Estate Maximum Capacity: 43\\nReal Estate Furnished: No\\nReal Estate with Parking: Yes\\nReal Estate Rent Price: 11931\\nReal Estate Parking Space: 28\\nReal Estate Water Services: Yes\\nReal Estate Electricity Services: Yes\\nReal Estate Number of Rooms: 17', metadata={'source': 'C:\\\\Users\\\\Administrator\\\\Downloads\\\\Exported-Data-for-Real-Estate.csv', 'row': 7}),\n",
       " Document(page_content='Real Estate ID: RE1008\\nReal Estate Address: Beirut RE1008\\nReal Estate City: Beirut\\nReal Estate Country: Lebanon\\nReal Estate Owner: SPG\\nReal Estate Type: Building\\nReal Estate Ownership Date: 11/17/2016\\nReal Estate Ownership Expiry Date: 8/11/2034\\nReal Estate Size (SQM): 499\\nReal Estate Status: Available\\nReal Estate Has Parking: No\\nReal Estate Maximum Capacity: 68\\nReal Estate Furnished: Yes\\nReal Estate with Parking: No\\nReal Estate Rent Price: 12622\\nReal Estate Parking Space: 1\\nReal Estate Water Services: No\\nReal Estate Electricity Services: No\\nReal Estate Number of Rooms: 6', metadata={'source': 'C:\\\\Users\\\\Administrator\\\\Downloads\\\\Exported-Data-for-Real-Estate.csv', 'row': 8}),\n",
       " Document(page_content='Real Estate ID: RE1009\\nReal Estate Address: Beirut RE1009\\nReal Estate City: Beirut\\nReal Estate Country: Lebanon\\nReal Estate Owner: SQ\\nReal Estate Type: Land\\nReal Estate Ownership Date: 8/17/2017\\nReal Estate Ownership Expiry Date: 9/15/2029\\nReal Estate Size (SQM): 3448\\nReal Estate Status: Not Available\\nReal Estate Has Parking: Yes\\nReal Estate Maximum Capacity: 11\\nReal Estate Furnished: Yes\\nReal Estate with Parking: Yes\\nReal Estate Rent Price: 1761\\nReal Estate Parking Space: 49\\nReal Estate Water Services: Yes\\nReal Estate Electricity Services: Yes\\nReal Estate Number of Rooms: 0', metadata={'source': 'C:\\\\Users\\\\Administrator\\\\Downloads\\\\Exported-Data-for-Real-Estate.csv', 'row': 9}),\n",
       " Document(page_content='Real Estate ID: RE1010\\nReal Estate Address: Beirut RE1010\\nReal Estate City: Beirut\\nReal Estate Country: Lebanon\\nReal Estate Owner: SQ\\nReal Estate Type: Floor\\nReal Estate Ownership Date: 6/6/2011\\nReal Estate Ownership Expiry Date: 10/23/2027\\nReal Estate Size (SQM): 3175\\nReal Estate Status: Not Available\\nReal Estate Has Parking: Yes\\nReal Estate Maximum Capacity: 58\\nReal Estate Furnished: Yes\\nReal Estate with Parking: No\\nReal Estate Rent Price: 10139\\nReal Estate Parking Space: 49\\nReal Estate Water Services: No\\nReal Estate Electricity Services: Yes\\nReal Estate Number of Rooms: 2', metadata={'source': 'C:\\\\Users\\\\Administrator\\\\Downloads\\\\Exported-Data-for-Real-Estate.csv', 'row': 10}),\n",
       " Document(page_content='Real Estate ID: RE1011\\nReal Estate Address: Beirut RE1011\\nReal Estate City: Beirut\\nReal Estate Country: Lebanon\\nReal Estate Owner: MIC\\nReal Estate Type: Floor\\nReal Estate Ownership Date: 5/6/2011\\nReal Estate Ownership Expiry Date: 5/31/2029\\nReal Estate Size (SQM): 866\\nReal Estate Status: Not Available\\nReal Estate Has Parking: Yes\\nReal Estate Maximum Capacity: 92\\nReal Estate Furnished: No\\nReal Estate with Parking: Yes\\nReal Estate Rent Price: 5791\\nReal Estate Parking Space: 23\\nReal Estate Water Services: No\\nReal Estate Electricity Services: Yes\\nReal Estate Number of Rooms: 18', metadata={'source': 'C:\\\\Users\\\\Administrator\\\\Downloads\\\\Exported-Data-for-Real-Estate.csv', 'row': 11}),\n",
       " Document(page_content='Real Estate ID: RE1012\\nReal Estate Address: Beirut RE1012\\nReal Estate City: Beirut\\nReal Estate Country: Lebanon\\nReal Estate Owner: SPG\\nReal Estate Type: Land\\nReal Estate Ownership Date: 11/17/2019\\nReal Estate Ownership Expiry Date: 10/13/2032\\nReal Estate Size (SQM): 2157\\nReal Estate Status: Available\\nReal Estate Has Parking: Yes\\nReal Estate Maximum Capacity: 90\\nReal Estate Furnished: Yes\\nReal Estate with Parking: No\\nReal Estate Rent Price: 1625\\nReal Estate Parking Space: 16\\nReal Estate Water Services: No\\nReal Estate Electricity Services: Yes\\nReal Estate Number of Rooms: 0', metadata={'source': 'C:\\\\Users\\\\Administrator\\\\Downloads\\\\Exported-Data-for-Real-Estate.csv', 'row': 12}),\n",
       " Document(page_content='Real Estate ID: RE1013\\nReal Estate Address: Beirut RE1013\\nReal Estate City: Beirut\\nReal Estate Country: Lebanon\\nReal Estate Owner: MIC\\nReal Estate Type: Floor\\nReal Estate Ownership Date: 11/2/2011\\nReal Estate Ownership Expiry Date: 2/2/2030\\nReal Estate Size (SQM): 1740\\nReal Estate Status: Not Available\\nReal Estate Has Parking: No\\nReal Estate Maximum Capacity: 4\\nReal Estate Furnished: No\\nReal Estate with Parking: Yes\\nReal Estate Rent Price: 9587\\nReal Estate Parking Space: 41\\nReal Estate Water Services: No\\nReal Estate Electricity Services: Yes\\nReal Estate Number of Rooms: 2', metadata={'source': 'C:\\\\Users\\\\Administrator\\\\Downloads\\\\Exported-Data-for-Real-Estate.csv', 'row': 13}),\n",
       " Document(page_content='Real Estate ID: RE1014\\nReal Estate Address: Beirut RE1014\\nReal Estate City: Beirut\\nReal Estate Country: Lebanon\\nReal Estate Owner: UD\\nReal Estate Type: Land\\nReal Estate Ownership Date: 6/23/2019\\nReal Estate Ownership Expiry Date: 3/30/2028\\nReal Estate Size (SQM): 4309\\nReal Estate Status: Not Available\\nReal Estate Has Parking: No\\nReal Estate Maximum Capacity: 79\\nReal Estate Furnished: No\\nReal Estate with Parking: No\\nReal Estate Rent Price: 6837\\nReal Estate Parking Space: 26\\nReal Estate Water Services: No\\nReal Estate Electricity Services: Yes\\nReal Estate Number of Rooms: 0', metadata={'source': 'C:\\\\Users\\\\Administrator\\\\Downloads\\\\Exported-Data-for-Real-Estate.csv', 'row': 14}),\n",
       " Document(page_content='Real Estate ID: RE1015\\nReal Estate Address: Tripoli RE1015\\nReal Estate City: Tripoli\\nReal Estate Country: Lebanon\\nReal Estate Owner: UD\\nReal Estate Type: Building\\nReal Estate Ownership Date: 4/21/2017\\nReal Estate Ownership Expiry Date: 4/10/2029\\nReal Estate Size (SQM): 3692\\nReal Estate Status: Not Available\\nReal Estate Has Parking: Yes\\nReal Estate Maximum Capacity: 83\\nReal Estate Furnished: Yes\\nReal Estate with Parking: No\\nReal Estate Rent Price: 13154\\nReal Estate Parking Space: 48\\nReal Estate Water Services: Yes\\nReal Estate Electricity Services: Yes\\nReal Estate Number of Rooms: 9', metadata={'source': 'C:\\\\Users\\\\Administrator\\\\Downloads\\\\Exported-Data-for-Real-Estate.csv', 'row': 15}),\n",
       " Document(page_content='Real Estate ID: RE1016\\nReal Estate Address: Tripoli RE1016\\nReal Estate City: Tripoli\\nReal Estate Country: Lebanon\\nReal Estate Owner: UD\\nReal Estate Type: Floor\\nReal Estate Ownership Date: 3/9/2018\\nReal Estate Ownership Expiry Date: 12/2/2032\\nReal Estate Size (SQM): 995\\nReal Estate Status: Not Available\\nReal Estate Has Parking: Yes\\nReal Estate Maximum Capacity: 70\\nReal Estate Furnished: Yes\\nReal Estate with Parking: Yes\\nReal Estate Rent Price: 4383\\nReal Estate Parking Space: 2\\nReal Estate Water Services: Yes\\nReal Estate Electricity Services: Yes\\nReal Estate Number of Rooms: 19', metadata={'source': 'C:\\\\Users\\\\Administrator\\\\Downloads\\\\Exported-Data-for-Real-Estate.csv', 'row': 16}),\n",
       " Document(page_content='Real Estate ID: RE1017\\nReal Estate Address: Beirut RE1017\\nReal Estate City: Beirut\\nReal Estate Country: Lebanon\\nReal Estate Owner: AA\\nReal Estate Type: Floor\\nReal Estate Ownership Date: 2/28/2014\\nReal Estate Ownership Expiry Date: 5/4/2030\\nReal Estate Size (SQM): 251\\nReal Estate Status: Not Available\\nReal Estate Has Parking: No\\nReal Estate Maximum Capacity: 59\\nReal Estate Furnished: Yes\\nReal Estate with Parking: No\\nReal Estate Rent Price: 3555\\nReal Estate Parking Space: 47\\nReal Estate Water Services: Yes\\nReal Estate Electricity Services: Yes\\nReal Estate Number of Rooms: 2', metadata={'source': 'C:\\\\Users\\\\Administrator\\\\Downloads\\\\Exported-Data-for-Real-Estate.csv', 'row': 17}),\n",
       " Document(page_content='Real Estate ID: RE1018\\nReal Estate Address: Tripoli RE1018\\nReal Estate City: Tripoli\\nReal Estate Country: Lebanon\\nReal Estate Owner: SPG\\nReal Estate Type: Building\\nReal Estate Ownership Date: 5/3/2019\\nReal Estate Ownership Expiry Date: 12/21/2030\\nReal Estate Size (SQM): 1855\\nReal Estate Status: Available\\nReal Estate Has Parking: No\\nReal Estate Maximum Capacity: 5\\nReal Estate Furnished: No\\nReal Estate with Parking: No\\nReal Estate Rent Price: 16612\\nReal Estate Parking Space: 17\\nReal Estate Water Services: Yes\\nReal Estate Electricity Services: No\\nReal Estate Number of Rooms: 4', metadata={'source': 'C:\\\\Users\\\\Administrator\\\\Downloads\\\\Exported-Data-for-Real-Estate.csv', 'row': 18}),\n",
       " Document(page_content='Real Estate ID: RE1019\\nReal Estate Address: Saida RE1019\\nReal Estate City: Saida\\nReal Estate Country: Lebanon\\nReal Estate Owner: SPG\\nReal Estate Type: Floor\\nReal Estate Ownership Date: 9/28/2020\\nReal Estate Ownership Expiry Date: 8/11/2027\\nReal Estate Size (SQM): 1912\\nReal Estate Status: Available\\nReal Estate Has Parking: Yes\\nReal Estate Maximum Capacity: 18\\nReal Estate Furnished: Yes\\nReal Estate with Parking: Yes\\nReal Estate Rent Price: 15707\\nReal Estate Parking Space: 20\\nReal Estate Water Services: No\\nReal Estate Electricity Services: No\\nReal Estate Number of Rooms: 17', metadata={'source': 'C:\\\\Users\\\\Administrator\\\\Downloads\\\\Exported-Data-for-Real-Estate.csv', 'row': 19}),\n",
       " Document(page_content='Real Estate ID: RE1020\\nReal Estate Address: Sour RE1020\\nReal Estate City: Sour\\nReal Estate Country: Lebanon\\nReal Estate Owner: AA\\nReal Estate Type: Building\\nReal Estate Ownership Date: 4/21/2018\\nReal Estate Ownership Expiry Date: 10/25/2037\\nReal Estate Size (SQM): 600\\nReal Estate Status: Not Available\\nReal Estate Has Parking: Yes\\nReal Estate Maximum Capacity: 70\\nReal Estate Furnished: No\\nReal Estate with Parking: No\\nReal Estate Rent Price: 6305\\nReal Estate Parking Space: 38\\nReal Estate Water Services: No\\nReal Estate Electricity Services: No\\nReal Estate Number of Rooms: 4', metadata={'source': 'C:\\\\Users\\\\Administrator\\\\Downloads\\\\Exported-Data-for-Real-Estate.csv', 'row': 20}),\n",
       " Document(page_content='Real Estate ID: RE1021\\nReal Estate Address: Saida RE1021\\nReal Estate City: Saida\\nReal Estate Country: Lebanon\\nReal Estate Owner: SPG\\nReal Estate Type: Building\\nReal Estate Ownership Date: 5/17/2018\\nReal Estate Ownership Expiry Date: 1/11/2034\\nReal Estate Size (SQM): 3801\\nReal Estate Status: Available\\nReal Estate Has Parking: Yes\\nReal Estate Maximum Capacity: 64\\nReal Estate Furnished: No\\nReal Estate with Parking: Yes\\nReal Estate Rent Price: 7758\\nReal Estate Parking Space: 0\\nReal Estate Water Services: No\\nReal Estate Electricity Services: No\\nReal Estate Number of Rooms: 6', metadata={'source': 'C:\\\\Users\\\\Administrator\\\\Downloads\\\\Exported-Data-for-Real-Estate.csv', 'row': 21}),\n",
       " Document(page_content='Real Estate ID: RE1022\\nReal Estate Address: Sour RE1022\\nReal Estate City: Sour\\nReal Estate Country: Lebanon\\nReal Estate Owner: SPG\\nReal Estate Type: Floor\\nReal Estate Ownership Date: 5/18/2013\\nReal Estate Ownership Expiry Date: 12/24/2033\\nReal Estate Size (SQM): 1722\\nReal Estate Status: Available\\nReal Estate Has Parking: No\\nReal Estate Maximum Capacity: 95\\nReal Estate Furnished: No\\nReal Estate with Parking: Yes\\nReal Estate Rent Price: 14195\\nReal Estate Parking Space: 6\\nReal Estate Water Services: Yes\\nReal Estate Electricity Services: No\\nReal Estate Number of Rooms: 2', metadata={'source': 'C:\\\\Users\\\\Administrator\\\\Downloads\\\\Exported-Data-for-Real-Estate.csv', 'row': 22}),\n",
       " Document(page_content='Real Estate ID: RE1023\\nReal Estate Address: Sour RE1023\\nReal Estate City: Sour\\nReal Estate Country: Lebanon\\nReal Estate Owner: SPG\\nReal Estate Type: Building\\nReal Estate Ownership Date: 4/19/2017\\nReal Estate Ownership Expiry Date: 7/25/2032\\nReal Estate Size (SQM): 2090\\nReal Estate Status: Available\\nReal Estate Has Parking: Yes\\nReal Estate Maximum Capacity: 25\\nReal Estate Furnished: Yes\\nReal Estate with Parking: Yes\\nReal Estate Rent Price: 17078\\nReal Estate Parking Space: 44\\nReal Estate Water Services: Yes\\nReal Estate Electricity Services: Yes\\nReal Estate Number of Rooms: 4', metadata={'source': 'C:\\\\Users\\\\Administrator\\\\Downloads\\\\Exported-Data-for-Real-Estate.csv', 'row': 23}),\n",
       " Document(page_content='Real Estate ID: RE1024\\nReal Estate Address: Sour RE1024\\nReal Estate City: Sour\\nReal Estate Country: Lebanon\\nReal Estate Owner: CC\\nReal Estate Type: Floor\\nReal Estate Ownership Date: 8/3/2011\\nReal Estate Ownership Expiry Date: 12/17/2027\\nReal Estate Size (SQM): 953\\nReal Estate Status: Not Available\\nReal Estate Has Parking: No\\nReal Estate Maximum Capacity: 4\\nReal Estate Furnished: No\\nReal Estate with Parking: No\\nReal Estate Rent Price: 8762\\nReal Estate Parking Space: 22\\nReal Estate Water Services: No\\nReal Estate Electricity Services: No\\nReal Estate Number of Rooms: 8', metadata={'source': 'C:\\\\Users\\\\Administrator\\\\Downloads\\\\Exported-Data-for-Real-Estate.csv', 'row': 24}),\n",
       " Document(page_content='Real Estate ID: RE1025\\nReal Estate Address: Beirut RE1025\\nReal Estate City: Beirut\\nReal Estate Country: Lebanon\\nReal Estate Owner: SPG\\nReal Estate Type: Floor\\nReal Estate Ownership Date: 6/24/2014\\nReal Estate Ownership Expiry Date: 12/12/2036\\nReal Estate Size (SQM): 554\\nReal Estate Status: Available\\nReal Estate Has Parking: Yes\\nReal Estate Maximum Capacity: 70\\nReal Estate Furnished: Yes\\nReal Estate with Parking: No\\nReal Estate Rent Price: 4308\\nReal Estate Parking Space: 15\\nReal Estate Water Services: Yes\\nReal Estate Electricity Services: No\\nReal Estate Number of Rooms: 2', metadata={'source': 'C:\\\\Users\\\\Administrator\\\\Downloads\\\\Exported-Data-for-Real-Estate.csv', 'row': 25}),\n",
       " Document(page_content='Real Estate ID: RE1026\\nReal Estate Address: Beirut RE1026\\nReal Estate City: Beirut\\nReal Estate Country: Lebanon\\nReal Estate Owner: CC\\nReal Estate Type: Floor\\nReal Estate Ownership Date: 5/17/2019\\nReal Estate Ownership Expiry Date: 8/19/2027\\nReal Estate Size (SQM): 3861\\nReal Estate Status: Not Available\\nReal Estate Has Parking: Yes\\nReal Estate Maximum Capacity: 41\\nReal Estate Furnished: Yes\\nReal Estate with Parking: Yes\\nReal Estate Rent Price: 1165\\nReal Estate Parking Space: 10\\nReal Estate Water Services: Yes\\nReal Estate Electricity Services: Yes\\nReal Estate Number of Rooms: 2', metadata={'source': 'C:\\\\Users\\\\Administrator\\\\Downloads\\\\Exported-Data-for-Real-Estate.csv', 'row': 26}),\n",
       " Document(page_content='Real Estate ID: RE1027\\nReal Estate Address: Beirut RE1027\\nReal Estate City: Beirut\\nReal Estate Country: Lebanon\\nReal Estate Owner: SPG\\nReal Estate Type: Building\\nReal Estate Ownership Date: 2/5/2012\\nReal Estate Ownership Expiry Date: 5/10/2034\\nReal Estate Size (SQM): 1529\\nReal Estate Status: Available\\nReal Estate Has Parking: No\\nReal Estate Maximum Capacity: 37\\nReal Estate Furnished: Yes\\nReal Estate with Parking: Yes\\nReal Estate Rent Price: 2415\\nReal Estate Parking Space: 34\\nReal Estate Water Services: Yes\\nReal Estate Electricity Services: No\\nReal Estate Number of Rooms: 8', metadata={'source': 'C:\\\\Users\\\\Administrator\\\\Downloads\\\\Exported-Data-for-Real-Estate.csv', 'row': 27}),\n",
       " Document(page_content='Real Estate ID: RE1028\\nReal Estate Address: Beirut RE1028\\nReal Estate City: Beirut\\nReal Estate Country: Lebanon\\nReal Estate Owner: OP\\nReal Estate Type: Building\\nReal Estate Ownership Date: 10/11/2015\\nReal Estate Ownership Expiry Date: 6/22/2032\\nReal Estate Size (SQM): 4546\\nReal Estate Status: Not Available\\nReal Estate Has Parking: Yes\\nReal Estate Maximum Capacity: 59\\nReal Estate Furnished: Yes\\nReal Estate with Parking: No\\nReal Estate Rent Price: 19205\\nReal Estate Parking Space: 40\\nReal Estate Water Services: No\\nReal Estate Electricity Services: No\\nReal Estate Number of Rooms: 5', metadata={'source': 'C:\\\\Users\\\\Administrator\\\\Downloads\\\\Exported-Data-for-Real-Estate.csv', 'row': 28}),\n",
       " Document(page_content='Real Estate ID: RE1029\\nReal Estate Address: Beirut RE1029\\nReal Estate City: Beirut\\nReal Estate Country: Lebanon\\nReal Estate Owner: SPG\\nReal Estate Type: Building\\nReal Estate Ownership Date: 10/8/2020\\nReal Estate Ownership Expiry Date: 12/3/2037\\nReal Estate Size (SQM): 3178\\nReal Estate Status: Available\\nReal Estate Has Parking: Yes\\nReal Estate Maximum Capacity: 50\\nReal Estate Furnished: Yes\\nReal Estate with Parking: Yes\\nReal Estate Rent Price: 10294\\nReal Estate Parking Space: 38\\nReal Estate Water Services: Yes\\nReal Estate Electricity Services: Yes\\nReal Estate Number of Rooms: 14', metadata={'source': 'C:\\\\Users\\\\Administrator\\\\Downloads\\\\Exported-Data-for-Real-Estate.csv', 'row': 29}),\n",
       " Document(page_content='Real Estate ID: RE1030\\nReal Estate Address: Beirut RE1030\\nReal Estate City: Beirut\\nReal Estate Country: Lebanon\\nReal Estate Owner: OP\\nReal Estate Type: Land\\nReal Estate Ownership Date: 6/17/2013\\nReal Estate Ownership Expiry Date: 1/16/2037\\nReal Estate Size (SQM): 3871\\nReal Estate Status: Not Available\\nReal Estate Has Parking: Yes\\nReal Estate Maximum Capacity: 56\\nReal Estate Furnished: No\\nReal Estate with Parking: Yes\\nReal Estate Rent Price: 12209\\nReal Estate Parking Space: 21\\nReal Estate Water Services: No\\nReal Estate Electricity Services: No\\nReal Estate Number of Rooms: 0', metadata={'source': 'C:\\\\Users\\\\Administrator\\\\Downloads\\\\Exported-Data-for-Real-Estate.csv', 'row': 30}),\n",
       " Document(page_content='Real Estate ID: RE1031\\nReal Estate Address: Beirut RE1031\\nReal Estate City: Beirut\\nReal Estate Country: Lebanon\\nReal Estate Owner: OP\\nReal Estate Type: Floor\\nReal Estate Ownership Date: 9/17/2010\\nReal Estate Ownership Expiry Date: 11/27/2029\\nReal Estate Size (SQM): 2761\\nReal Estate Status: Not Available\\nReal Estate Has Parking: No\\nReal Estate Maximum Capacity: 25\\nReal Estate Furnished: Yes\\nReal Estate with Parking: No\\nReal Estate Rent Price: 17907\\nReal Estate Parking Space: 34\\nReal Estate Water Services: Yes\\nReal Estate Electricity Services: No\\nReal Estate Number of Rooms: 19', metadata={'source': 'C:\\\\Users\\\\Administrator\\\\Downloads\\\\Exported-Data-for-Real-Estate.csv', 'row': 31}),\n",
       " Document(page_content='Real Estate ID: RE1032\\nReal Estate Address: Tripoli RE1032\\nReal Estate City: Tripoli\\nReal Estate Country: Lebanon\\nReal Estate Owner: SPG\\nReal Estate Type: Building\\nReal Estate Ownership Date: 12/11/2010\\nReal Estate Ownership Expiry Date: 12/15/2032\\nReal Estate Size (SQM): 330\\nReal Estate Status: Available\\nReal Estate Has Parking: No\\nReal Estate Maximum Capacity: 34\\nReal Estate Furnished: Yes\\nReal Estate with Parking: Yes\\nReal Estate Rent Price: 8228\\nReal Estate Parking Space: 32\\nReal Estate Water Services: No\\nReal Estate Electricity Services: Yes\\nReal Estate Number of Rooms: 1', metadata={'source': 'C:\\\\Users\\\\Administrator\\\\Downloads\\\\Exported-Data-for-Real-Estate.csv', 'row': 32}),\n",
       " Document(page_content='Real Estate ID: RE1033\\nReal Estate Address: Tripoli RE1033\\nReal Estate City: Tripoli\\nReal Estate Country: Lebanon\\nReal Estate Owner: Media\\nReal Estate Type: Land\\nReal Estate Ownership Date: 8/2/2019\\nReal Estate Ownership Expiry Date: 7/5/2027\\nReal Estate Size (SQM): 1078\\nReal Estate Status: Not Available\\nReal Estate Has Parking: Yes\\nReal Estate Maximum Capacity: 19\\nReal Estate Furnished: Yes\\nReal Estate with Parking: No\\nReal Estate Rent Price: 15015\\nReal Estate Parking Space: 42\\nReal Estate Water Services: Yes\\nReal Estate Electricity Services: Yes\\nReal Estate Number of Rooms: 0', metadata={'source': 'C:\\\\Users\\\\Administrator\\\\Downloads\\\\Exported-Data-for-Real-Estate.csv', 'row': 33}),\n",
       " Document(page_content='Real Estate ID: RE1034\\nReal Estate Address: Beirut RE1034\\nReal Estate City: Beirut\\nReal Estate Country: Lebanon\\nReal Estate Owner: SPG\\nReal Estate Type: Floor\\nReal Estate Ownership Date: 3/10/2016\\nReal Estate Ownership Expiry Date: 9/19/2028\\nReal Estate Size (SQM): 2710\\nReal Estate Status: Available\\nReal Estate Has Parking: Yes\\nReal Estate Maximum Capacity: 98\\nReal Estate Furnished: No\\nReal Estate with Parking: No\\nReal Estate Rent Price: 1699\\nReal Estate Parking Space: 44\\nReal Estate Water Services: Yes\\nReal Estate Electricity Services: Yes\\nReal Estate Number of Rooms: 3', metadata={'source': 'C:\\\\Users\\\\Administrator\\\\Downloads\\\\Exported-Data-for-Real-Estate.csv', 'row': 34}),\n",
       " Document(page_content='Real Estate ID: RE1035\\nReal Estate Address: Tripoli RE1035\\nReal Estate City: Tripoli\\nReal Estate Country: Lebanon\\nReal Estate Owner: SPG\\nReal Estate Type: Floor\\nReal Estate Ownership Date: 7/30/2013\\nReal Estate Ownership Expiry Date: 12/8/2036\\nReal Estate Size (SQM): 2403\\nReal Estate Status: Available\\nReal Estate Has Parking: Yes\\nReal Estate Maximum Capacity: 79\\nReal Estate Furnished: No\\nReal Estate with Parking: Yes\\nReal Estate Rent Price: 15226\\nReal Estate Parking Space: 35\\nReal Estate Water Services: No\\nReal Estate Electricity Services: Yes\\nReal Estate Number of Rooms: 14', metadata={'source': 'C:\\\\Users\\\\Administrator\\\\Downloads\\\\Exported-Data-for-Real-Estate.csv', 'row': 35}),\n",
       " Document(page_content='Real Estate ID: RE1036\\nReal Estate Address: Saida RE1036\\nReal Estate City: Saida\\nReal Estate Country: Lebanon\\nReal Estate Owner: SPG\\nReal Estate Type: Floor\\nReal Estate Ownership Date: 9/1/2016\\nReal Estate Ownership Expiry Date: 5/21/2034\\nReal Estate Size (SQM): 2441\\nReal Estate Status: Available\\nReal Estate Has Parking: No\\nReal Estate Maximum Capacity: 8\\nReal Estate Furnished: Yes\\nReal Estate with Parking: Yes\\nReal Estate Rent Price: 12957\\nReal Estate Parking Space: 41\\nReal Estate Water Services: No\\nReal Estate Electricity Services: No\\nReal Estate Number of Rooms: 5', metadata={'source': 'C:\\\\Users\\\\Administrator\\\\Downloads\\\\Exported-Data-for-Real-Estate.csv', 'row': 36}),\n",
       " Document(page_content='Real Estate ID: RE1037\\nReal Estate Address: Sour RE1037\\nReal Estate City: Sour\\nReal Estate Country: Lebanon\\nReal Estate Owner: Media\\nReal Estate Type: Land\\nReal Estate Ownership Date: 8/4/2016\\nReal Estate Ownership Expiry Date: 5/21/2030\\nReal Estate Size (SQM): 203\\nReal Estate Status: Not Available\\nReal Estate Has Parking: Yes\\nReal Estate Maximum Capacity: 54\\nReal Estate Furnished: No\\nReal Estate with Parking: No\\nReal Estate Rent Price: 14596\\nReal Estate Parking Space: 39\\nReal Estate Water Services: No\\nReal Estate Electricity Services: No\\nReal Estate Number of Rooms: 0', metadata={'source': 'C:\\\\Users\\\\Administrator\\\\Downloads\\\\Exported-Data-for-Real-Estate.csv', 'row': 37}),\n",
       " Document(page_content='Real Estate ID: RE1038\\nReal Estate Address: Saida RE1038\\nReal Estate City: Saida\\nReal Estate Country: Lebanon\\nReal Estate Owner: SPG\\nReal Estate Type: Building\\nReal Estate Ownership Date: 11/6/2013\\nReal Estate Ownership Expiry Date: 5/25/2030\\nReal Estate Size (SQM): 3910\\nReal Estate Status: Available\\nReal Estate Has Parking: Yes\\nReal Estate Maximum Capacity: 47\\nReal Estate Furnished: Yes\\nReal Estate with Parking: No\\nReal Estate Rent Price: 17832\\nReal Estate Parking Space: 27\\nReal Estate Water Services: Yes\\nReal Estate Electricity Services: No\\nReal Estate Number of Rooms: 17', metadata={'source': 'C:\\\\Users\\\\Administrator\\\\Downloads\\\\Exported-Data-for-Real-Estate.csv', 'row': 38}),\n",
       " Document(page_content='Real Estate ID: RE1039\\nReal Estate Address: Sour RE1039\\nReal Estate City: Sour\\nReal Estate Country: Lebanon\\nReal Estate Owner: Media\\nReal Estate Type: Building\\nReal Estate Ownership Date: 2/4/2012\\nReal Estate Ownership Expiry Date: 9/14/2030\\nReal Estate Size (SQM): 2455\\nReal Estate Status: Not Available\\nReal Estate Has Parking: No\\nReal Estate Maximum Capacity: 34\\nReal Estate Furnished: No\\nReal Estate with Parking: No\\nReal Estate Rent Price: 12992\\nReal Estate Parking Space: 48\\nReal Estate Water Services: No\\nReal Estate Electricity Services: Yes\\nReal Estate Number of Rooms: 11', metadata={'source': 'C:\\\\Users\\\\Administrator\\\\Downloads\\\\Exported-Data-for-Real-Estate.csv', 'row': 39}),\n",
       " Document(page_content='Real Estate ID: RE1040\\nReal Estate Address: Sour RE1040\\nReal Estate City: Sour\\nReal Estate Country: Lebanon\\nReal Estate Owner: SPG\\nReal Estate Type: Building\\nReal Estate Ownership Date: 9/12/2011\\nReal Estate Ownership Expiry Date: 6/7/2027\\nReal Estate Size (SQM): 2795\\nReal Estate Status: Available\\nReal Estate Has Parking: Yes\\nReal Estate Maximum Capacity: 82\\nReal Estate Furnished: Yes\\nReal Estate with Parking: Yes\\nReal Estate Rent Price: 16240\\nReal Estate Parking Space: 10\\nReal Estate Water Services: Yes\\nReal Estate Electricity Services: No\\nReal Estate Number of Rooms: 12', metadata={'source': 'C:\\\\Users\\\\Administrator\\\\Downloads\\\\Exported-Data-for-Real-Estate.csv', 'row': 40}),\n",
       " Document(page_content='Real Estate ID: RE1041\\nReal Estate Address: Sour RE1041\\nReal Estate City: Sour\\nReal Estate Country: Lebanon\\nReal Estate Owner: Media\\nReal Estate Type: Building\\nReal Estate Ownership Date: 5/29/2020\\nReal Estate Ownership Expiry Date: 8/31/2029\\nReal Estate Size (SQM): 4553\\nReal Estate Status: Not Available\\nReal Estate Has Parking: No\\nReal Estate Maximum Capacity: 30\\nReal Estate Furnished: No\\nReal Estate with Parking: Yes\\nReal Estate Rent Price: 4467\\nReal Estate Parking Space: 4\\nReal Estate Water Services: No\\nReal Estate Electricity Services: Yes\\nReal Estate Number of Rooms: 4', metadata={'source': 'C:\\\\Users\\\\Administrator\\\\Downloads\\\\Exported-Data-for-Real-Estate.csv', 'row': 41}),\n",
       " Document(page_content='Real Estate ID: RE1042\\nReal Estate Address: Beirut RE1042\\nReal Estate City: Beirut\\nReal Estate Country: Lebanon\\nReal Estate Owner: Events Center\\nReal Estate Type: Floor\\nReal Estate Ownership Date: 1/14/2021\\nReal Estate Ownership Expiry Date: 5/30/2029\\nReal Estate Size (SQM): 1103\\nReal Estate Status: Not Available\\nReal Estate Has Parking: Yes\\nReal Estate Maximum Capacity: 13\\nReal Estate Furnished: No\\nReal Estate with Parking: No\\nReal Estate Rent Price: 11716\\nReal Estate Parking Space: 17\\nReal Estate Water Services: Yes\\nReal Estate Electricity Services: No\\nReal Estate Number of Rooms: 9', metadata={'source': 'C:\\\\Users\\\\Administrator\\\\Downloads\\\\Exported-Data-for-Real-Estate.csv', 'row': 42}),\n",
       " Document(page_content='Real Estate ID: RE1043\\nReal Estate Address: Beirut RE1043\\nReal Estate City: Beirut\\nReal Estate Country: Lebanon\\nReal Estate Owner: SPG\\nReal Estate Type: Floor\\nReal Estate Ownership Date: 8/15/2017\\nReal Estate Ownership Expiry Date: 9/22/2035\\nReal Estate Size (SQM): 3027\\nReal Estate Status: Available\\nReal Estate Has Parking: Yes\\nReal Estate Maximum Capacity: 47\\nReal Estate Furnished: Yes\\nReal Estate with Parking: Yes\\nReal Estate Rent Price: 15259\\nReal Estate Parking Space: 3\\nReal Estate Water Services: Yes\\nReal Estate Electricity Services: Yes\\nReal Estate Number of Rooms: 15', metadata={'source': 'C:\\\\Users\\\\Administrator\\\\Downloads\\\\Exported-Data-for-Real-Estate.csv', 'row': 43}),\n",
       " Document(page_content='Real Estate ID: RE1044\\nReal Estate Address: Beirut RE1044\\nReal Estate City: Beirut\\nReal Estate Country: Lebanon\\nReal Estate Owner: Events Center\\nReal Estate Type: Building\\nReal Estate Ownership Date: 8/12/2018\\nReal Estate Ownership Expiry Date: 4/20/2032\\nReal Estate Size (SQM): 3943\\nReal Estate Status: Not Available\\nReal Estate Has Parking: No\\nReal Estate Maximum Capacity: 33\\nReal Estate Furnished: No\\nReal Estate with Parking: Yes\\nReal Estate Rent Price: 4087\\nReal Estate Parking Space: 37\\nReal Estate Water Services: Yes\\nReal Estate Electricity Services: No\\nReal Estate Number of Rooms: 1', metadata={'source': 'C:\\\\Users\\\\Administrator\\\\Downloads\\\\Exported-Data-for-Real-Estate.csv', 'row': 44}),\n",
       " Document(page_content='Real Estate ID: RE1045\\nReal Estate Address: Beirut RE1045\\nReal Estate City: Beirut\\nReal Estate Country: Lebanon\\nReal Estate Owner: MII\\nReal Estate Type: Building\\nReal Estate Ownership Date: 1/16/2015\\nReal Estate Ownership Expiry Date: 9/20/2034\\nReal Estate Size (SQM): 2729\\nReal Estate Status: Not Available\\nReal Estate Has Parking: No\\nReal Estate Maximum Capacity: 35\\nReal Estate Furnished: Yes\\nReal Estate with Parking: No\\nReal Estate Rent Price: 1131\\nReal Estate Parking Space: 30\\nReal Estate Water Services: No\\nReal Estate Electricity Services: No\\nReal Estate Number of Rooms: 1', metadata={'source': 'C:\\\\Users\\\\Administrator\\\\Downloads\\\\Exported-Data-for-Real-Estate.csv', 'row': 45}),\n",
       " Document(page_content='Real Estate ID: RE1046\\nReal Estate Address: Beirut RE1046\\nReal Estate City: Beirut\\nReal Estate Country: Lebanon\\nReal Estate Owner: SPG\\nReal Estate Type: Building\\nReal Estate Ownership Date: 3/20/2019\\nReal Estate Ownership Expiry Date: 2/6/2030\\nReal Estate Size (SQM): 3045\\nReal Estate Status: Available\\nReal Estate Has Parking: Yes\\nReal Estate Maximum Capacity: 88\\nReal Estate Furnished: No\\nReal Estate with Parking: No\\nReal Estate Rent Price: 17597\\nReal Estate Parking Space: 23\\nReal Estate Water Services: Yes\\nReal Estate Electricity Services: Yes\\nReal Estate Number of Rooms: 3', metadata={'source': 'C:\\\\Users\\\\Administrator\\\\Downloads\\\\Exported-Data-for-Real-Estate.csv', 'row': 46}),\n",
       " Document(page_content='Real Estate ID: RE1047\\nReal Estate Address: Beirut RE1047\\nReal Estate City: Beirut\\nReal Estate Country: Lebanon\\nReal Estate Owner: MII\\nReal Estate Type: Land\\nReal Estate Ownership Date: 1/19/2013\\nReal Estate Ownership Expiry Date: 7/1/2027\\nReal Estate Size (SQM): 4153\\nReal Estate Status: Not Available\\nReal Estate Has Parking: Yes\\nReal Estate Maximum Capacity: 26\\nReal Estate Furnished: Yes\\nReal Estate with Parking: Yes\\nReal Estate Rent Price: 4356\\nReal Estate Parking Space: 29\\nReal Estate Water Services: No\\nReal Estate Electricity Services: Yes\\nReal Estate Number of Rooms: 0', metadata={'source': 'C:\\\\Users\\\\Administrator\\\\Downloads\\\\Exported-Data-for-Real-Estate.csv', 'row': 47}),\n",
       " Document(page_content='Real Estate ID: RE1048\\nReal Estate Address: Beirut RE1048\\nReal Estate City: Beirut\\nReal Estate Country: Lebanon\\nReal Estate Owner: MII\\nReal Estate Type: Floor\\nReal Estate Ownership Date: 10/12/2013\\nReal Estate Ownership Expiry Date: 1/25/2033\\nReal Estate Size (SQM): 2715\\nReal Estate Status: Not Available\\nReal Estate Has Parking: No\\nReal Estate Maximum Capacity: 47\\nReal Estate Furnished: Yes\\nReal Estate with Parking: Yes\\nReal Estate Rent Price: 12989\\nReal Estate Parking Space: 38\\nReal Estate Water Services: Yes\\nReal Estate Electricity Services: Yes\\nReal Estate Number of Rooms: 6', metadata={'source': 'C:\\\\Users\\\\Administrator\\\\Downloads\\\\Exported-Data-for-Real-Estate.csv', 'row': 48}),\n",
       " Document(page_content='Real Estate ID: RE1049\\nReal Estate Address: Tripoli RE1049\\nReal Estate City: Tripoli\\nReal Estate Country: Lebanon\\nReal Estate Owner: MII\\nReal Estate Type: Building\\nReal Estate Ownership Date: 3/26/2016\\nReal Estate Ownership Expiry Date: 8/28/2028\\nReal Estate Size (SQM): 3107\\nReal Estate Status: Not Available\\nReal Estate Has Parking: No\\nReal Estate Maximum Capacity: 53\\nReal Estate Furnished: No\\nReal Estate with Parking: Yes\\nReal Estate Rent Price: 2614\\nReal Estate Parking Space: 30\\nReal Estate Water Services: Yes\\nReal Estate Electricity Services: No\\nReal Estate Number of Rooms: 3', metadata={'source': 'C:\\\\Users\\\\Administrator\\\\Downloads\\\\Exported-Data-for-Real-Estate.csv', 'row': 49}),\n",
       " Document(page_content='Real Estate ID: RE1050\\nReal Estate Address: Tripoli RE1050\\nReal Estate City: Tripoli\\nReal Estate Country: Lebanon\\nReal Estate Owner: XSA\\nReal Estate Type: Building\\nReal Estate Ownership Date: 7/16/2018\\nReal Estate Ownership Expiry Date: 11/29/2033\\nReal Estate Size (SQM): 4018\\nReal Estate Status: Not Available\\nReal Estate Has Parking: No\\nReal Estate Maximum Capacity: 65\\nReal Estate Furnished: Yes\\nReal Estate with Parking: Yes\\nReal Estate Rent Price: 3927\\nReal Estate Parking Space: 11\\nReal Estate Water Services: Yes\\nReal Estate Electricity Services: No\\nReal Estate Number of Rooms: 8', metadata={'source': 'C:\\\\Users\\\\Administrator\\\\Downloads\\\\Exported-Data-for-Real-Estate.csv', 'row': 50}),\n",
       " Document(page_content='Real Estate ID: RE1051\\nReal Estate Address: Beirut RE1051\\nReal Estate City: Beirut\\nReal Estate Country: Lebanon\\nReal Estate Owner: AA\\nReal Estate Type: Land\\nReal Estate Ownership Date: 11/20/2015\\nReal Estate Ownership Expiry Date: 2/6/2030\\nReal Estate Size (SQM): 901\\nReal Estate Status: Not Available\\nReal Estate Has Parking: Yes\\nReal Estate Maximum Capacity: 77\\nReal Estate Furnished: Yes\\nReal Estate with Parking: No\\nReal Estate Rent Price: 5940\\nReal Estate Parking Space: 2\\nReal Estate Water Services: Yes\\nReal Estate Electricity Services: Yes\\nReal Estate Number of Rooms: 0', metadata={'source': 'C:\\\\Users\\\\Administrator\\\\Downloads\\\\Exported-Data-for-Real-Estate.csv', 'row': 51}),\n",
       " Document(page_content='Real Estate ID: RE1052\\nReal Estate Address: Tripoli RE1052\\nReal Estate City: Tripoli\\nReal Estate Country: Lebanon\\nReal Estate Owner: SPG\\nReal Estate Type: Building\\nReal Estate Ownership Date: 3/18/2014\\nReal Estate Ownership Expiry Date: 7/4/2035\\nReal Estate Size (SQM): 1450\\nReal Estate Status: Available\\nReal Estate Has Parking: Yes\\nReal Estate Maximum Capacity: 74\\nReal Estate Furnished: Yes\\nReal Estate with Parking: No\\nReal Estate Rent Price: 2291\\nReal Estate Parking Space: 29\\nReal Estate Water Services: No\\nReal Estate Electricity Services: Yes\\nReal Estate Number of Rooms: 12', metadata={'source': 'C:\\\\Users\\\\Administrator\\\\Downloads\\\\Exported-Data-for-Real-Estate.csv', 'row': 52}),\n",
       " Document(page_content='Real Estate ID: RE1053\\nReal Estate Address: Saida RE1053\\nReal Estate City: Saida\\nReal Estate Country: Lebanon\\nReal Estate Owner: SPG\\nReal Estate Type: Floor\\nReal Estate Ownership Date: 5/5/2015\\nReal Estate Ownership Expiry Date: 4/30/2036\\nReal Estate Size (SQM): 3843\\nReal Estate Status: Available\\nReal Estate Has Parking: Yes\\nReal Estate Maximum Capacity: 19\\nReal Estate Furnished: No\\nReal Estate with Parking: No\\nReal Estate Rent Price: 18767\\nReal Estate Parking Space: 7\\nReal Estate Water Services: Yes\\nReal Estate Electricity Services: Yes\\nReal Estate Number of Rooms: 2', metadata={'source': 'C:\\\\Users\\\\Administrator\\\\Downloads\\\\Exported-Data-for-Real-Estate.csv', 'row': 53}),\n",
       " Document(page_content='Real Estate ID: RE1054\\nReal Estate Address: Sour RE1054\\nReal Estate City: Sour\\nReal Estate Country: Lebanon\\nReal Estate Owner: IE\\nReal Estate Type: Land\\nReal Estate Ownership Date: 6/26/2019\\nReal Estate Ownership Expiry Date: 6/27/2031\\nReal Estate Size (SQM): 3381\\nReal Estate Status: Not Available\\nReal Estate Has Parking: Yes\\nReal Estate Maximum Capacity: 5\\nReal Estate Furnished: Yes\\nReal Estate with Parking: No\\nReal Estate Rent Price: 5845\\nReal Estate Parking Space: 9\\nReal Estate Water Services: Yes\\nReal Estate Electricity Services: Yes\\nReal Estate Number of Rooms: 0', metadata={'source': 'C:\\\\Users\\\\Administrator\\\\Downloads\\\\Exported-Data-for-Real-Estate.csv', 'row': 54}),\n",
       " Document(page_content='Real Estate ID: RE1055\\nReal Estate Address: Saida RE1055\\nReal Estate City: Saida\\nReal Estate Country: Lebanon\\nReal Estate Owner: IE\\nReal Estate Type: Land\\nReal Estate Ownership Date: 11/17/2015\\nReal Estate Ownership Expiry Date: 3/11/2030\\nReal Estate Size (SQM): 176\\nReal Estate Status: Not Available\\nReal Estate Has Parking: Yes\\nReal Estate Maximum Capacity: 8\\nReal Estate Furnished: No\\nReal Estate with Parking: Yes\\nReal Estate Rent Price: 18040\\nReal Estate Parking Space: 23\\nReal Estate Water Services: No\\nReal Estate Electricity Services: No\\nReal Estate Number of Rooms: 0', metadata={'source': 'C:\\\\Users\\\\Administrator\\\\Downloads\\\\Exported-Data-for-Real-Estate.csv', 'row': 55}),\n",
       " Document(page_content='Real Estate ID: RE1056\\nReal Estate Address: Sour RE1056\\nReal Estate City: Sour\\nReal Estate Country: Lebanon\\nReal Estate Owner: IE\\nReal Estate Type: Land\\nReal Estate Ownership Date: 9/4/2016\\nReal Estate Ownership Expiry Date: 4/13/2032\\nReal Estate Size (SQM): 627\\nReal Estate Status: Not Available\\nReal Estate Has Parking: No\\nReal Estate Maximum Capacity: 4\\nReal Estate Furnished: Yes\\nReal Estate with Parking: Yes\\nReal Estate Rent Price: 12521\\nReal Estate Parking Space: 0\\nReal Estate Water Services: Yes\\nReal Estate Electricity Services: Yes\\nReal Estate Number of Rooms: 0', metadata={'source': 'C:\\\\Users\\\\Administrator\\\\Downloads\\\\Exported-Data-for-Real-Estate.csv', 'row': 56}),\n",
       " Document(page_content='Real Estate ID: RE1057\\nReal Estate Address: Sour RE1057\\nReal Estate City: Sour\\nReal Estate Country: Lebanon\\nReal Estate Owner: POA\\nReal Estate Type: Building\\nReal Estate Ownership Date: 7/10/2017\\nReal Estate Ownership Expiry Date: 4/9/2035\\nReal Estate Size (SQM): 854\\nReal Estate Status: Not Available\\nReal Estate Has Parking: Yes\\nReal Estate Maximum Capacity: 49\\nReal Estate Furnished: Yes\\nReal Estate with Parking: No\\nReal Estate Rent Price: 11768\\nReal Estate Parking Space: 48\\nReal Estate Water Services: No\\nReal Estate Electricity Services: Yes\\nReal Estate Number of Rooms: 15', metadata={'source': 'C:\\\\Users\\\\Administrator\\\\Downloads\\\\Exported-Data-for-Real-Estate.csv', 'row': 57}),\n",
       " Document(page_content='Real Estate ID: RE1058\\nReal Estate Address: Sour RE1058\\nReal Estate City: Sour\\nReal Estate Country: Lebanon\\nReal Estate Owner: SPG\\nReal Estate Type: Building\\nReal Estate Ownership Date: 3/8/2015\\nReal Estate Ownership Expiry Date: 12/11/2034\\nReal Estate Size (SQM): 3074\\nReal Estate Status: Available\\nReal Estate Has Parking: Yes\\nReal Estate Maximum Capacity: 77\\nReal Estate Furnished: Yes\\nReal Estate with Parking: Yes\\nReal Estate Rent Price: 3593\\nReal Estate Parking Space: 17\\nReal Estate Water Services: No\\nReal Estate Electricity Services: No\\nReal Estate Number of Rooms: 16', metadata={'source': 'C:\\\\Users\\\\Administrator\\\\Downloads\\\\Exported-Data-for-Real-Estate.csv', 'row': 58}),\n",
       " Document(page_content='Real Estate ID: RE1059\\nReal Estate Address: Beirut RE1059\\nReal Estate City: Beirut\\nReal Estate Country: Lebanon\\nReal Estate Owner: POA\\nReal Estate Type: Building\\nReal Estate Ownership Date: 1/16/2021\\nReal Estate Ownership Expiry Date: 8/16/2034\\nReal Estate Size (SQM): 162\\nReal Estate Status: Not Available\\nReal Estate Has Parking: Yes\\nReal Estate Maximum Capacity: 38\\nReal Estate Furnished: No\\nReal Estate with Parking: Yes\\nReal Estate Rent Price: 2510\\nReal Estate Parking Space: 40\\nReal Estate Water Services: Yes\\nReal Estate Electricity Services: No\\nReal Estate Number of Rooms: 16', metadata={'source': 'C:\\\\Users\\\\Administrator\\\\Downloads\\\\Exported-Data-for-Real-Estate.csv', 'row': 59}),\n",
       " Document(page_content='Real Estate ID: RE1060\\nReal Estate Address: Beirut RE1060\\nReal Estate City: Beirut\\nReal Estate Country: Lebanon\\nReal Estate Owner: SPG\\nReal Estate Type: Land\\nReal Estate Ownership Date: 2/19/2019\\nReal Estate Ownership Expiry Date: 1/23/2029\\nReal Estate Size (SQM): 2017\\nReal Estate Status: Available\\nReal Estate Has Parking: Yes\\nReal Estate Maximum Capacity: 49\\nReal Estate Furnished: Yes\\nReal Estate with Parking: No\\nReal Estate Rent Price: 10000\\nReal Estate Parking Space: 21\\nReal Estate Water Services: Yes\\nReal Estate Electricity Services: Yes\\nReal Estate Number of Rooms: 0', metadata={'source': 'C:\\\\Users\\\\Administrator\\\\Downloads\\\\Exported-Data-for-Real-Estate.csv', 'row': 60}),\n",
       " Document(page_content='Real Estate ID: RE1061\\nReal Estate Address: Beirut RE1061\\nReal Estate City: Beirut\\nReal Estate Country: Lebanon\\nReal Estate Owner: SPG\\nReal Estate Type: Land\\nReal Estate Ownership Date: 3/7/2016\\nReal Estate Ownership Expiry Date: 8/11/2029\\nReal Estate Size (SQM): 700\\nReal Estate Status: Available\\nReal Estate Has Parking: Yes\\nReal Estate Maximum Capacity: 83\\nReal Estate Furnished: Yes\\nReal Estate with Parking: Yes\\nReal Estate Rent Price: 2130\\nReal Estate Parking Space: 30\\nReal Estate Water Services: No\\nReal Estate Electricity Services: No\\nReal Estate Number of Rooms: 0', metadata={'source': 'C:\\\\Users\\\\Administrator\\\\Downloads\\\\Exported-Data-for-Real-Estate.csv', 'row': 61}),\n",
       " Document(page_content='Real Estate ID: RE1062\\nReal Estate Address: Beirut RE1062\\nReal Estate City: Beirut\\nReal Estate Country: Lebanon\\nReal Estate Owner: POA\\nReal Estate Type: Floor\\nReal Estate Ownership Date: 1/31/2018\\nReal Estate Ownership Expiry Date: 10/30/2027\\nReal Estate Size (SQM): 4383\\nReal Estate Status: Not Available\\nReal Estate Has Parking: No\\nReal Estate Maximum Capacity: 52\\nReal Estate Furnished: No\\nReal Estate with Parking: Yes\\nReal Estate Rent Price: 1595\\nReal Estate Parking Space: 26\\nReal Estate Water Services: No\\nReal Estate Electricity Services: Yes\\nReal Estate Number of Rooms: 11', metadata={'source': 'C:\\\\Users\\\\Administrator\\\\Downloads\\\\Exported-Data-for-Real-Estate.csv', 'row': 62}),\n",
       " Document(page_content='Real Estate ID: RE1063\\nReal Estate Address: Beirut RE1063\\nReal Estate City: Beirut\\nReal Estate Country: Lebanon\\nReal Estate Owner: SPG\\nReal Estate Type: Land\\nReal Estate Ownership Date: 12/14/2012\\nReal Estate Ownership Expiry Date: 4/1/2029\\nReal Estate Size (SQM): 1434\\nReal Estate Status: Available\\nReal Estate Has Parking: No\\nReal Estate Maximum Capacity: 50\\nReal Estate Furnished: No\\nReal Estate with Parking: Yes\\nReal Estate Rent Price: 5850\\nReal Estate Parking Space: 15\\nReal Estate Water Services: No\\nReal Estate Electricity Services: No\\nReal Estate Number of Rooms: 0', metadata={'source': 'C:\\\\Users\\\\Administrator\\\\Downloads\\\\Exported-Data-for-Real-Estate.csv', 'row': 63}),\n",
       " Document(page_content='Real Estate ID: RE1064\\nReal Estate Address: Beirut RE1064\\nReal Estate City: Beirut\\nReal Estate Country: Lebanon\\nReal Estate Owner: POA\\nReal Estate Type: Building\\nReal Estate Ownership Date: 7/23/2017\\nReal Estate Ownership Expiry Date: 8/20/2036\\nReal Estate Size (SQM): 113\\nReal Estate Status: Not Available\\nReal Estate Has Parking: No\\nReal Estate Maximum Capacity: 72\\nReal Estate Furnished: No\\nReal Estate with Parking: No\\nReal Estate Rent Price: 18824\\nReal Estate Parking Space: 48\\nReal Estate Water Services: No\\nReal Estate Electricity Services: No\\nReal Estate Number of Rooms: 9', metadata={'source': 'C:\\\\Users\\\\Administrator\\\\Downloads\\\\Exported-Data-for-Real-Estate.csv', 'row': 64}),\n",
       " Document(page_content='Real Estate ID: RE1065\\nReal Estate Address: Beirut RE1065\\nReal Estate City: Beirut\\nReal Estate Country: Lebanon\\nReal Estate Owner: SPG\\nReal Estate Type: Building\\nReal Estate Ownership Date: 3/18/2021\\nReal Estate Ownership Expiry Date: 8/11/2037\\nReal Estate Size (SQM): 4049\\nReal Estate Status: Available\\nReal Estate Has Parking: No\\nReal Estate Maximum Capacity: 91\\nReal Estate Furnished: Yes\\nReal Estate with Parking: Yes\\nReal Estate Rent Price: 17708\\nReal Estate Parking Space: 17\\nReal Estate Water Services: No\\nReal Estate Electricity Services: Yes\\nReal Estate Number of Rooms: 16', metadata={'source': 'C:\\\\Users\\\\Administrator\\\\Downloads\\\\Exported-Data-for-Real-Estate.csv', 'row': 65}),\n",
       " Document(page_content='Real Estate ID: RE1066\\nReal Estate Address: Tripoli RE1066\\nReal Estate City: Tripoli\\nReal Estate Country: Lebanon\\nReal Estate Owner: POA\\nReal Estate Type: Land\\nReal Estate Ownership Date: 6/17/2015\\nReal Estate Ownership Expiry Date: 5/6/2028\\nReal Estate Size (SQM): 4038\\nReal Estate Status: Not Available\\nReal Estate Has Parking: No\\nReal Estate Maximum Capacity: 50\\nReal Estate Furnished: No\\nReal Estate with Parking: No\\nReal Estate Rent Price: 6535\\nReal Estate Parking Space: 10\\nReal Estate Water Services: No\\nReal Estate Electricity Services: No\\nReal Estate Number of Rooms: 0', metadata={'source': 'C:\\\\Users\\\\Administrator\\\\Downloads\\\\Exported-Data-for-Real-Estate.csv', 'row': 66}),\n",
       " Document(page_content='Real Estate ID: RE1067\\nReal Estate Address: Tripoli RE1067\\nReal Estate City: Tripoli\\nReal Estate Country: Lebanon\\nReal Estate Owner: DD\\nReal Estate Type: Floor\\nReal Estate Ownership Date: 8/16/2015\\nReal Estate Ownership Expiry Date: 8/22/2030\\nReal Estate Size (SQM): 2552\\nReal Estate Status: Not Available\\nReal Estate Has Parking: Yes\\nReal Estate Maximum Capacity: 30\\nReal Estate Furnished: Yes\\nReal Estate with Parking: No\\nReal Estate Rent Price: 9854\\nReal Estate Parking Space: 17\\nReal Estate Water Services: No\\nReal Estate Electricity Services: Yes\\nReal Estate Number of Rooms: 13', metadata={'source': 'C:\\\\Users\\\\Administrator\\\\Downloads\\\\Exported-Data-for-Real-Estate.csv', 'row': 67}),\n",
       " Document(page_content='Real Estate ID: RE1068\\nReal Estate Address: Beirut RE1068\\nReal Estate City: Beirut\\nReal Estate Country: Lebanon\\nReal Estate Owner: SPG\\nReal Estate Type: Land\\nReal Estate Ownership Date: 5/28/2015\\nReal Estate Ownership Expiry Date: 3/23/2036\\nReal Estate Size (SQM): 3566\\nReal Estate Status: Available\\nReal Estate Has Parking: Yes\\nReal Estate Maximum Capacity: 4\\nReal Estate Furnished: No\\nReal Estate with Parking: Yes\\nReal Estate Rent Price: 8909\\nReal Estate Parking Space: 3\\nReal Estate Water Services: No\\nReal Estate Electricity Services: Yes\\nReal Estate Number of Rooms: 0', metadata={'source': 'C:\\\\Users\\\\Administrator\\\\Downloads\\\\Exported-Data-for-Real-Estate.csv', 'row': 68}),\n",
       " Document(page_content='Real Estate ID: RE1069\\nReal Estate Address: Tripoli RE1069\\nReal Estate City: Tripoli\\nReal Estate Country: Lebanon\\nReal Estate Owner: DD\\nReal Estate Type: Land\\nReal Estate Ownership Date: 10/9/2017\\nReal Estate Ownership Expiry Date: 5/10/2036\\nReal Estate Size (SQM): 4749\\nReal Estate Status: Not Available\\nReal Estate Has Parking: No\\nReal Estate Maximum Capacity: 75\\nReal Estate Furnished: No\\nReal Estate with Parking: No\\nReal Estate Rent Price: 1079\\nReal Estate Parking Space: 39\\nReal Estate Water Services: Yes\\nReal Estate Electricity Services: No\\nReal Estate Number of Rooms: 0', metadata={'source': 'C:\\\\Users\\\\Administrator\\\\Downloads\\\\Exported-Data-for-Real-Estate.csv', 'row': 69}),\n",
       " Document(page_content='Real Estate ID: RE1070\\nReal Estate Address: Saida RE1070\\nReal Estate City: Saida\\nReal Estate Country: Lebanon\\nReal Estate Owner: DD\\nReal Estate Type: Land\\nReal Estate Ownership Date: 3/7/2015\\nReal Estate Ownership Expiry Date: 4/29/2031\\nReal Estate Size (SQM): 2721\\nReal Estate Status: Not Available\\nReal Estate Has Parking: No\\nReal Estate Maximum Capacity: 85\\nReal Estate Furnished: No\\nReal Estate with Parking: No\\nReal Estate Rent Price: 12059\\nReal Estate Parking Space: 9\\nReal Estate Water Services: No\\nReal Estate Electricity Services: No\\nReal Estate Number of Rooms: 0', metadata={'source': 'C:\\\\Users\\\\Administrator\\\\Downloads\\\\Exported-Data-for-Real-Estate.csv', 'row': 70}),\n",
       " Document(page_content='Real Estate ID: RE1071\\nReal Estate Address: Sour RE1071\\nReal Estate City: Sour\\nReal Estate Country: Lebanon\\nReal Estate Owner: SPG\\nReal Estate Type: Building\\nReal Estate Ownership Date: 10/1/2017\\nReal Estate Ownership Expiry Date: 6/26/2030\\nReal Estate Size (SQM): 2437\\nReal Estate Status: Available\\nReal Estate Has Parking: No\\nReal Estate Maximum Capacity: 66\\nReal Estate Furnished: No\\nReal Estate with Parking: Yes\\nReal Estate Rent Price: 12660\\nReal Estate Parking Space: 29\\nReal Estate Water Services: Yes\\nReal Estate Electricity Services: Yes\\nReal Estate Number of Rooms: 18', metadata={'source': 'C:\\\\Users\\\\Administrator\\\\Downloads\\\\Exported-Data-for-Real-Estate.csv', 'row': 71}),\n",
       " Document(page_content='Real Estate ID: RE1072\\nReal Estate Address: Saida RE1072\\nReal Estate City: Saida\\nReal Estate Country: Lebanon\\nReal Estate Owner: OPM\\nReal Estate Type: Building\\nReal Estate Ownership Date: 3/22/2012\\nReal Estate Ownership Expiry Date: 2/7/2035\\nReal Estate Size (SQM): 1918\\nReal Estate Status: Not Available\\nReal Estate Has Parking: No\\nReal Estate Maximum Capacity: 21\\nReal Estate Furnished: No\\nReal Estate with Parking: Yes\\nReal Estate Rent Price: 6130\\nReal Estate Parking Space: 3\\nReal Estate Water Services: Yes\\nReal Estate Electricity Services: No\\nReal Estate Number of Rooms: 17', metadata={'source': 'C:\\\\Users\\\\Administrator\\\\Downloads\\\\Exported-Data-for-Real-Estate.csv', 'row': 72}),\n",
       " Document(page_content='Real Estate ID: RE1073\\nReal Estate Address: Sour RE1073\\nReal Estate City: Sour\\nReal Estate Country: Lebanon\\nReal Estate Owner: SPG\\nReal Estate Type: Building\\nReal Estate Ownership Date: 2/14/2021\\nReal Estate Ownership Expiry Date: 9/8/2028\\nReal Estate Size (SQM): 3491\\nReal Estate Status: Available\\nReal Estate Has Parking: No\\nReal Estate Maximum Capacity: 81\\nReal Estate Furnished: Yes\\nReal Estate with Parking: Yes\\nReal Estate Rent Price: 10833\\nReal Estate Parking Space: 7\\nReal Estate Water Services: No\\nReal Estate Electricity Services: No\\nReal Estate Number of Rooms: 6', metadata={'source': 'C:\\\\Users\\\\Administrator\\\\Downloads\\\\Exported-Data-for-Real-Estate.csv', 'row': 73}),\n",
       " Document(page_content='Real Estate ID: RE1074\\nReal Estate Address: Sour RE1074\\nReal Estate City: Sour\\nReal Estate Country: Lebanon\\nReal Estate Owner: SPG\\nReal Estate Type: Land\\nReal Estate Ownership Date: 5/11/2016\\nReal Estate Ownership Expiry Date: 10/30/2028\\nReal Estate Size (SQM): 2324\\nReal Estate Status: Available\\nReal Estate Has Parking: No\\nReal Estate Maximum Capacity: 43\\nReal Estate Furnished: Yes\\nReal Estate with Parking: Yes\\nReal Estate Rent Price: 10040\\nReal Estate Parking Space: 16\\nReal Estate Water Services: No\\nReal Estate Electricity Services: No\\nReal Estate Number of Rooms: 0', metadata={'source': 'C:\\\\Users\\\\Administrator\\\\Downloads\\\\Exported-Data-for-Real-Estate.csv', 'row': 74}),\n",
       " Document(page_content='Real Estate ID: RE1075\\nReal Estate Address: Sour RE1075\\nReal Estate City: Sour\\nReal Estate Country: Lebanon\\nReal Estate Owner: SPG\\nReal Estate Type: Floor\\nReal Estate Ownership Date: 10/10/2013\\nReal Estate Ownership Expiry Date: 8/17/2028\\nReal Estate Size (SQM): 2013\\nReal Estate Status: Available\\nReal Estate Has Parking: No\\nReal Estate Maximum Capacity: 29\\nReal Estate Furnished: No\\nReal Estate with Parking: Yes\\nReal Estate Rent Price: 12998\\nReal Estate Parking Space: 34\\nReal Estate Water Services: Yes\\nReal Estate Electricity Services: Yes\\nReal Estate Number of Rooms: 18', metadata={'source': 'C:\\\\Users\\\\Administrator\\\\Downloads\\\\Exported-Data-for-Real-Estate.csv', 'row': 75}),\n",
       " Document(page_content='Real Estate ID: RE1076\\nReal Estate Address: Beirut RE1076\\nReal Estate City: Beirut\\nReal Estate Country: Lebanon\\nReal Estate Owner: SPG\\nReal Estate Type: Land\\nReal Estate Ownership Date: 2/6/2021\\nReal Estate Ownership Expiry Date: 6/15/2034\\nReal Estate Size (SQM): 3006\\nReal Estate Status: Available\\nReal Estate Has Parking: No\\nReal Estate Maximum Capacity: 27\\nReal Estate Furnished: Yes\\nReal Estate with Parking: No\\nReal Estate Rent Price: 2731\\nReal Estate Parking Space: 4\\nReal Estate Water Services: Yes\\nReal Estate Electricity Services: No\\nReal Estate Number of Rooms: 0', metadata={'source': 'C:\\\\Users\\\\Administrator\\\\Downloads\\\\Exported-Data-for-Real-Estate.csv', 'row': 76}),\n",
       " Document(page_content='Real Estate ID: RE1077\\nReal Estate Address: Beirut RE1077\\nReal Estate City: Beirut\\nReal Estate Country: Lebanon\\nReal Estate Owner: OPM\\nReal Estate Type: Land\\nReal Estate Ownership Date: 4/23/2017\\nReal Estate Ownership Expiry Date: 4/12/2031\\nReal Estate Size (SQM): 3948\\nReal Estate Status: Not Available\\nReal Estate Has Parking: Yes\\nReal Estate Maximum Capacity: 88\\nReal Estate Furnished: No\\nReal Estate with Parking: No\\nReal Estate Rent Price: 18744\\nReal Estate Parking Space: 26\\nReal Estate Water Services: No\\nReal Estate Electricity Services: No\\nReal Estate Number of Rooms: 0', metadata={'source': 'C:\\\\Users\\\\Administrator\\\\Downloads\\\\Exported-Data-for-Real-Estate.csv', 'row': 77}),\n",
       " Document(page_content='Real Estate ID: RE1078\\nReal Estate Address: Beirut RE1078\\nReal Estate City: Beirut\\nReal Estate Country: Lebanon\\nReal Estate Owner: SPG\\nReal Estate Type: Building\\nReal Estate Ownership Date: 9/12/2020\\nReal Estate Ownership Expiry Date: 10/5/2027\\nReal Estate Size (SQM): 4019\\nReal Estate Status: Available\\nReal Estate Has Parking: Yes\\nReal Estate Maximum Capacity: 53\\nReal Estate Furnished: Yes\\nReal Estate with Parking: No\\nReal Estate Rent Price: 10345\\nReal Estate Parking Space: 36\\nReal Estate Water Services: No\\nReal Estate Electricity Services: Yes\\nReal Estate Number of Rooms: 2', metadata={'source': 'C:\\\\Users\\\\Administrator\\\\Downloads\\\\Exported-Data-for-Real-Estate.csv', 'row': 78}),\n",
       " Document(page_content='Real Estate ID: RE1079\\nReal Estate Address: Beirut RE1079\\nReal Estate City: Beirut\\nReal Estate Country: Lebanon\\nReal Estate Owner: SPG\\nReal Estate Type: Building\\nReal Estate Ownership Date: 10/15/2010\\nReal Estate Ownership Expiry Date: 11/4/2035\\nReal Estate Size (SQM): 4953\\nReal Estate Status: Available\\nReal Estate Has Parking: Yes\\nReal Estate Maximum Capacity: 49\\nReal Estate Furnished: Yes\\nReal Estate with Parking: Yes\\nReal Estate Rent Price: 16200\\nReal Estate Parking Space: 6\\nReal Estate Water Services: No\\nReal Estate Electricity Services: No\\nReal Estate Number of Rooms: 7', metadata={'source': 'C:\\\\Users\\\\Administrator\\\\Downloads\\\\Exported-Data-for-Real-Estate.csv', 'row': 79}),\n",
       " Document(page_content='Real Estate ID: RE1080\\nReal Estate Address: Beirut RE1080\\nReal Estate City: Beirut\\nReal Estate Country: Lebanon\\nReal Estate Owner: OPM\\nReal Estate Type: Land\\nReal Estate Ownership Date: 3/11/2020\\nReal Estate Ownership Expiry Date: 1/14/2036\\nReal Estate Size (SQM): 748\\nReal Estate Status: Not Available\\nReal Estate Has Parking: No\\nReal Estate Maximum Capacity: 67\\nReal Estate Furnished: No\\nReal Estate with Parking: No\\nReal Estate Rent Price: 17747\\nReal Estate Parking Space: 32\\nReal Estate Water Services: No\\nReal Estate Electricity Services: Yes\\nReal Estate Number of Rooms: 0', metadata={'source': 'C:\\\\Users\\\\Administrator\\\\Downloads\\\\Exported-Data-for-Real-Estate.csv', 'row': 80}),\n",
       " Document(page_content='Real Estate ID: RE1081\\nReal Estate Address: Beirut RE1081\\nReal Estate City: Beirut\\nReal Estate Country: Lebanon\\nReal Estate Owner: SPG\\nReal Estate Type: Floor\\nReal Estate Ownership Date: 10/11/2013\\nReal Estate Ownership Expiry Date: 12/7/2033\\nReal Estate Size (SQM): 342\\nReal Estate Status: Available\\nReal Estate Has Parking: No\\nReal Estate Maximum Capacity: 10\\nReal Estate Furnished: No\\nReal Estate with Parking: No\\nReal Estate Rent Price: 5562\\nReal Estate Parking Space: 17\\nReal Estate Water Services: Yes\\nReal Estate Electricity Services: Yes\\nReal Estate Number of Rooms: 6', metadata={'source': 'C:\\\\Users\\\\Administrator\\\\Downloads\\\\Exported-Data-for-Real-Estate.csv', 'row': 81}),\n",
       " Document(page_content='Real Estate ID: RE1082\\nReal Estate Address: Beirut RE1082\\nReal Estate City: Beirut\\nReal Estate Country: Lebanon\\nReal Estate Owner: SPG\\nReal Estate Type: Building\\nReal Estate Ownership Date: 11/10/2012\\nReal Estate Ownership Expiry Date: 3/30/2030\\nReal Estate Size (SQM): 887\\nReal Estate Status: Available\\nReal Estate Has Parking: No\\nReal Estate Maximum Capacity: 3\\nReal Estate Furnished: Yes\\nReal Estate with Parking: Yes\\nReal Estate Rent Price: 19770\\nReal Estate Parking Space: 37\\nReal Estate Water Services: Yes\\nReal Estate Electricity Services: Yes\\nReal Estate Number of Rooms: 13', metadata={'source': 'C:\\\\Users\\\\Administrator\\\\Downloads\\\\Exported-Data-for-Real-Estate.csv', 'row': 82}),\n",
       " Document(page_content='Real Estate ID: RE1083\\nReal Estate Address: Tripoli RE1083\\nReal Estate City: Tripoli\\nReal Estate Country: Lebanon\\nReal Estate Owner: SPG\\nReal Estate Type: Floor\\nReal Estate Ownership Date: 8/5/2016\\nReal Estate Ownership Expiry Date: 11/15/2029\\nReal Estate Size (SQM): 4149\\nReal Estate Status: Available\\nReal Estate Has Parking: No\\nReal Estate Maximum Capacity: 90\\nReal Estate Furnished: Yes\\nReal Estate with Parking: No\\nReal Estate Rent Price: 9889\\nReal Estate Parking Space: 27\\nReal Estate Water Services: Yes\\nReal Estate Electricity Services: Yes\\nReal Estate Number of Rooms: 11', metadata={'source': 'C:\\\\Users\\\\Administrator\\\\Downloads\\\\Exported-Data-for-Real-Estate.csv', 'row': 83}),\n",
       " Document(page_content='Real Estate ID: RE1084\\nReal Estate Address: Tripoli RE1084\\nReal Estate City: Tripoli\\nReal Estate Country: Lebanon\\nReal Estate Owner: UU\\nReal Estate Type: Floor\\nReal Estate Ownership Date: 9/13/2018\\nReal Estate Ownership Expiry Date: 10/28/2033\\nReal Estate Size (SQM): 4826\\nReal Estate Status: Not Available\\nReal Estate Has Parking: Yes\\nReal Estate Maximum Capacity: 91\\nReal Estate Furnished: Yes\\nReal Estate with Parking: Yes\\nReal Estate Rent Price: 8951\\nReal Estate Parking Space: 14\\nReal Estate Water Services: Yes\\nReal Estate Electricity Services: No\\nReal Estate Number of Rooms: 17', metadata={'source': 'C:\\\\Users\\\\Administrator\\\\Downloads\\\\Exported-Data-for-Real-Estate.csv', 'row': 84}),\n",
       " Document(page_content='Real Estate ID: RE1085\\nReal Estate Address: Sour RE1085\\nReal Estate City: Sour\\nReal Estate Country: Lebanon\\nReal Estate Owner: SPG\\nReal Estate Type: Land\\nReal Estate Ownership Date: 9/19/2016\\nReal Estate Ownership Expiry Date: 1/5/2028\\nReal Estate Size (SQM): 4172\\nReal Estate Status: Available\\nReal Estate Has Parking: Yes\\nReal Estate Maximum Capacity: 69\\nReal Estate Furnished: No\\nReal Estate with Parking: Yes\\nReal Estate Rent Price: 10103\\nReal Estate Parking Space: 22\\nReal Estate Water Services: Yes\\nReal Estate Electricity Services: Yes\\nReal Estate Number of Rooms: 0', metadata={'source': 'C:\\\\Users\\\\Administrator\\\\Downloads\\\\Exported-Data-for-Real-Estate.csv', 'row': 85}),\n",
       " Document(page_content='Real Estate ID: RE1086\\nReal Estate Address: Beirut RE1086\\nReal Estate City: Beirut\\nReal Estate Country: Lebanon\\nReal Estate Owner: UU\\nReal Estate Type: Land\\nReal Estate Ownership Date: 5/19/2012\\nReal Estate Ownership Expiry Date: 3/30/2035\\nReal Estate Size (SQM): 786\\nReal Estate Status: Not Available\\nReal Estate Has Parking: No\\nReal Estate Maximum Capacity: 11\\nReal Estate Furnished: No\\nReal Estate with Parking: Yes\\nReal Estate Rent Price: 12804\\nReal Estate Parking Space: 31\\nReal Estate Water Services: Yes\\nReal Estate Electricity Services: Yes\\nReal Estate Number of Rooms: 0', metadata={'source': 'C:\\\\Users\\\\Administrator\\\\Downloads\\\\Exported-Data-for-Real-Estate.csv', 'row': 86}),\n",
       " Document(page_content='Real Estate ID: RE1087\\nReal Estate Address: Beirut RE1087\\nReal Estate City: Beirut\\nReal Estate Country: Lebanon\\nReal Estate Owner: SPG\\nReal Estate Type: Land\\nReal Estate Ownership Date: 3/8/2021\\nReal Estate Ownership Expiry Date: 8/20/2030\\nReal Estate Size (SQM): 2346\\nReal Estate Status: Available\\nReal Estate Has Parking: Yes\\nReal Estate Maximum Capacity: 13\\nReal Estate Furnished: Yes\\nReal Estate with Parking: Yes\\nReal Estate Rent Price: 4399\\nReal Estate Parking Space: 8\\nReal Estate Water Services: Yes\\nReal Estate Electricity Services: Yes\\nReal Estate Number of Rooms: 0', metadata={'source': 'C:\\\\Users\\\\Administrator\\\\Downloads\\\\Exported-Data-for-Real-Estate.csv', 'row': 87}),\n",
       " Document(page_content='Real Estate ID: RE1088\\nReal Estate Address: Beirut RE1088\\nReal Estate City: Beirut\\nReal Estate Country: Lebanon\\nReal Estate Owner: SPG\\nReal Estate Type: Floor\\nReal Estate Ownership Date: 1/12/2018\\nReal Estate Ownership Expiry Date: 8/30/2028\\nReal Estate Size (SQM): 4511\\nReal Estate Status: Available\\nReal Estate Has Parking: No\\nReal Estate Maximum Capacity: 98\\nReal Estate Furnished: Yes\\nReal Estate with Parking: No\\nReal Estate Rent Price: 14595\\nReal Estate Parking Space: 29\\nReal Estate Water Services: No\\nReal Estate Electricity Services: No\\nReal Estate Number of Rooms: 14', metadata={'source': 'C:\\\\Users\\\\Administrator\\\\Downloads\\\\Exported-Data-for-Real-Estate.csv', 'row': 88}),\n",
       " Document(page_content='Real Estate ID: RE1089\\nReal Estate Address: Beirut RE1089\\nReal Estate City: Beirut\\nReal Estate Country: Lebanon\\nReal Estate Owner: SPG\\nReal Estate Type: Building\\nReal Estate Ownership Date: 12/23/2020\\nReal Estate Ownership Expiry Date: 2/9/2032\\nReal Estate Size (SQM): 2021\\nReal Estate Status: Available\\nReal Estate Has Parking: No\\nReal Estate Maximum Capacity: 38\\nReal Estate Furnished: Yes\\nReal Estate with Parking: No\\nReal Estate Rent Price: 15552\\nReal Estate Parking Space: 28\\nReal Estate Water Services: No\\nReal Estate Electricity Services: Yes\\nReal Estate Number of Rooms: 18', metadata={'source': 'C:\\\\Users\\\\Administrator\\\\Downloads\\\\Exported-Data-for-Real-Estate.csv', 'row': 89}),\n",
       " Document(page_content='Real Estate ID: RE1090\\nReal Estate Address: Beirut RE1090\\nReal Estate City: Beirut\\nReal Estate Country: Lebanon\\nReal Estate Owner: SPG\\nReal Estate Type: Building\\nReal Estate Ownership Date: 1/17/2015\\nReal Estate Ownership Expiry Date: 10/24/2029\\nReal Estate Size (SQM): 3323\\nReal Estate Status: Available\\nReal Estate Has Parking: No\\nReal Estate Maximum Capacity: 40\\nReal Estate Furnished: Yes\\nReal Estate with Parking: No\\nReal Estate Rent Price: 5409\\nReal Estate Parking Space: 31\\nReal Estate Water Services: No\\nReal Estate Electricity Services: Yes\\nReal Estate Number of Rooms: 7', metadata={'source': 'C:\\\\Users\\\\Administrator\\\\Downloads\\\\Exported-Data-for-Real-Estate.csv', 'row': 90}),\n",
       " Document(page_content='Real Estate ID: RE1091\\nReal Estate Address: Beirut RE1091\\nReal Estate City: Beirut\\nReal Estate Country: Lebanon\\nReal Estate Owner: AE\\nReal Estate Type: Land\\nReal Estate Ownership Date: 3/10/2020\\nReal Estate Ownership Expiry Date: 8/27/2036\\nReal Estate Size (SQM): 247\\nReal Estate Status: Not Available\\nReal Estate Has Parking: No\\nReal Estate Maximum Capacity: 33\\nReal Estate Furnished: Yes\\nReal Estate with Parking: No\\nReal Estate Rent Price: 11456\\nReal Estate Parking Space: 34\\nReal Estate Water Services: No\\nReal Estate Electricity Services: Yes\\nReal Estate Number of Rooms: 0', metadata={'source': 'C:\\\\Users\\\\Administrator\\\\Downloads\\\\Exported-Data-for-Real-Estate.csv', 'row': 91}),\n",
       " Document(page_content='Real Estate ID: RE1092\\nReal Estate Address: Beirut RE1092\\nReal Estate City: Beirut\\nReal Estate Country: Lebanon\\nReal Estate Owner: AE\\nReal Estate Type: Building\\nReal Estate Ownership Date: 7/27/2014\\nReal Estate Ownership Expiry Date: 1/26/2036\\nReal Estate Size (SQM): 1721\\nReal Estate Status: Not Available\\nReal Estate Has Parking: No\\nReal Estate Maximum Capacity: 34\\nReal Estate Furnished: Yes\\nReal Estate with Parking: No\\nReal Estate Rent Price: 19701\\nReal Estate Parking Space: 17\\nReal Estate Water Services: Yes\\nReal Estate Electricity Services: Yes\\nReal Estate Number of Rooms: 6', metadata={'source': 'C:\\\\Users\\\\Administrator\\\\Downloads\\\\Exported-Data-for-Real-Estate.csv', 'row': 92}),\n",
       " Document(page_content='Real Estate ID: RE1093\\nReal Estate Address: Tripoli RE1093\\nReal Estate City: Tripoli\\nReal Estate Country: Lebanon\\nReal Estate Owner: IU\\nReal Estate Type: Floor\\nReal Estate Ownership Date: 10/15/2015\\nReal Estate Ownership Expiry Date: 11/28/2034\\nReal Estate Size (SQM): 2735\\nReal Estate Status: Not Available\\nReal Estate Has Parking: Yes\\nReal Estate Maximum Capacity: 27\\nReal Estate Furnished: No\\nReal Estate with Parking: Yes\\nReal Estate Rent Price: 7034\\nReal Estate Parking Space: 28\\nReal Estate Water Services: Yes\\nReal Estate Electricity Services: Yes\\nReal Estate Number of Rooms: 5', metadata={'source': 'C:\\\\Users\\\\Administrator\\\\Downloads\\\\Exported-Data-for-Real-Estate.csv', 'row': 93}),\n",
       " Document(page_content='Real Estate ID: RE1094\\nReal Estate Address: Tripoli RE1094\\nReal Estate City: Tripoli\\nReal Estate Country: Lebanon\\nReal Estate Owner: SPG\\nReal Estate Type: Floor\\nReal Estate Ownership Date: 10/20/2017\\nReal Estate Ownership Expiry Date: 1/30/2029\\nReal Estate Size (SQM): 656\\nReal Estate Status: Available\\nReal Estate Has Parking: Yes\\nReal Estate Maximum Capacity: 90\\nReal Estate Furnished: No\\nReal Estate with Parking: No\\nReal Estate Rent Price: 17462\\nReal Estate Parking Space: 47\\nReal Estate Water Services: No\\nReal Estate Electricity Services: Yes\\nReal Estate Number of Rooms: 5', metadata={'source': 'C:\\\\Users\\\\Administrator\\\\Downloads\\\\Exported-Data-for-Real-Estate.csv', 'row': 94}),\n",
       " Document(page_content='Real Estate ID: RE1095\\nReal Estate Address: Beirut RE1095\\nReal Estate City: Beirut\\nReal Estate Country: Lebanon\\nReal Estate Owner: SPG\\nReal Estate Type: Building\\nReal Estate Ownership Date: 2/5/2019\\nReal Estate Ownership Expiry Date: 6/13/2029\\nReal Estate Size (SQM): 2170\\nReal Estate Status: Available\\nReal Estate Has Parking: Yes\\nReal Estate Maximum Capacity: 51\\nReal Estate Furnished: No\\nReal Estate with Parking: Yes\\nReal Estate Rent Price: 9142\\nReal Estate Parking Space: 16\\nReal Estate Water Services: Yes\\nReal Estate Electricity Services: Yes\\nReal Estate Number of Rooms: 19', metadata={'source': 'C:\\\\Users\\\\Administrator\\\\Downloads\\\\Exported-Data-for-Real-Estate.csv', 'row': 95}),\n",
       " Document(page_content='Real Estate ID: RE1096\\nReal Estate Address: Beirut RE1096\\nReal Estate City: Beirut\\nReal Estate Country: Lebanon\\nReal Estate Owner: IU\\nReal Estate Type: Floor\\nReal Estate Ownership Date: 1/23/2020\\nReal Estate Ownership Expiry Date: 3/18/2029\\nReal Estate Size (SQM): 4392\\nReal Estate Status: Not Available\\nReal Estate Has Parking: Yes\\nReal Estate Maximum Capacity: 89\\nReal Estate Furnished: No\\nReal Estate with Parking: No\\nReal Estate Rent Price: 6703\\nReal Estate Parking Space: 8\\nReal Estate Water Services: Yes\\nReal Estate Electricity Services: Yes\\nReal Estate Number of Rooms: 19', metadata={'source': 'C:\\\\Users\\\\Administrator\\\\Downloads\\\\Exported-Data-for-Real-Estate.csv', 'row': 96}),\n",
       " Document(page_content='Real Estate ID: RE1097\\nReal Estate Address: Tripoli RE1097\\nReal Estate City: Tripoli\\nReal Estate Country: Lebanon\\nReal Estate Owner: IU\\nReal Estate Type: Floor\\nReal Estate Ownership Date: 2/28/2019\\nReal Estate Ownership Expiry Date: 6/28/2036\\nReal Estate Size (SQM): 1209\\nReal Estate Status: Not Available\\nReal Estate Has Parking: No\\nReal Estate Maximum Capacity: 83\\nReal Estate Furnished: No\\nReal Estate with Parking: No\\nReal Estate Rent Price: 8951\\nReal Estate Parking Space: 44\\nReal Estate Water Services: Yes\\nReal Estate Electricity Services: Yes\\nReal Estate Number of Rooms: 11', metadata={'source': 'C:\\\\Users\\\\Administrator\\\\Downloads\\\\Exported-Data-for-Real-Estate.csv', 'row': 97}),\n",
       " Document(page_content='Real Estate ID: RE1098\\nReal Estate Address: Tripoli RE1098\\nReal Estate City: Tripoli\\nReal Estate Country: Lebanon\\nReal Estate Owner: SPG\\nReal Estate Type: Floor\\nReal Estate Ownership Date: 11/18/2013\\nReal Estate Ownership Expiry Date: 8/28/2030\\nReal Estate Size (SQM): 1781\\nReal Estate Status: Available\\nReal Estate Has Parking: Yes\\nReal Estate Maximum Capacity: 21\\nReal Estate Furnished: No\\nReal Estate with Parking: No\\nReal Estate Rent Price: 11237\\nReal Estate Parking Space: 7\\nReal Estate Water Services: Yes\\nReal Estate Electricity Services: Yes\\nReal Estate Number of Rooms: 12', metadata={'source': 'C:\\\\Users\\\\Administrator\\\\Downloads\\\\Exported-Data-for-Real-Estate.csv', 'row': 98}),\n",
       " Document(page_content='Real Estate ID: RE1099\\nReal Estate Address: Tripoli RE1099\\nReal Estate City: Tripoli\\nReal Estate Country: Lebanon\\nReal Estate Owner: QQ\\nReal Estate Type: Land\\nReal Estate Ownership Date: 11/24/2017\\nReal Estate Ownership Expiry Date: 1/4/2037\\nReal Estate Size (SQM): 2311\\nReal Estate Status: Not Available\\nReal Estate Has Parking: Yes\\nReal Estate Maximum Capacity: 95\\nReal Estate Furnished: No\\nReal Estate with Parking: No\\nReal Estate Rent Price: 19007\\nReal Estate Parking Space: 12\\nReal Estate Water Services: No\\nReal Estate Electricity Services: Yes\\nReal Estate Number of Rooms: 0', metadata={'source': 'C:\\\\Users\\\\Administrator\\\\Downloads\\\\Exported-Data-for-Real-Estate.csv', 'row': 99})]"
      ]
     },
     "execution_count": 7,
     "metadata": {},
     "output_type": "execute_result"
    }
   ],
   "source": [
    "data"
   ]
  },
  {
   "cell_type": "markdown",
   "metadata": {},
   "source": [
    "## split the data into chunks"
   ]
  },
  {
   "cell_type": "code",
   "execution_count": 8,
   "metadata": {},
   "outputs": [],
   "source": [
    "from langchain_text_splitters import RecursiveCharacterTextSplitter"
   ]
  },
  {
   "cell_type": "code",
   "execution_count": 9,
   "metadata": {},
   "outputs": [],
   "source": [
    "# Split and chunk \n",
    "text_splitter = RecursiveCharacterTextSplitter(chunk_size=1000, chunk_overlap=20)\n",
    "chunks = text_splitter.split_documents(data)"
   ]
  },
  {
   "cell_type": "code",
   "execution_count": 10,
   "metadata": {},
   "outputs": [
    {
     "data": {
      "text/plain": [
       "100"
      ]
     },
     "execution_count": 10,
     "metadata": {},
     "output_type": "execute_result"
    }
   ],
   "source": [
    "len(chunks)"
   ]
  },
  {
   "cell_type": "markdown",
   "metadata": {},
   "source": [
    "## Converting all the chunks into embedding"
   ]
  },
  {
   "cell_type": "code",
   "execution_count": 11,
   "metadata": {},
   "outputs": [],
   "source": [
    "from langchain_community.embeddings import OllamaEmbeddings\n",
    "from langchain_text_splitters import RecursiveCharacterTextSplitter\n",
    "from langchain_community.vectorstores import Chroma"
   ]
  },
  {
   "cell_type": "code",
   "execution_count": 12,
   "metadata": {},
   "outputs": [
    {
     "name": "stderr",
     "output_type": "stream",
     "text": [
      "c:\\Users\\Administrator\\AppData\\Local\\Programs\\Python\\Python312\\Lib\\site-packages\\onnxruntime\\capi\\onnxruntime_validation.py:26: UserWarning: Unsupported Windows version (2022server). ONNX Runtime supports Windows 10 and above, only.\n",
      "  warnings.warn(\n"
     ]
    }
   ],
   "source": [
    "import chromadb"
   ]
  },
  {
   "cell_type": "code",
   "execution_count": 13,
   "metadata": {},
   "outputs": [],
   "source": [
    "# Add to vector database\n",
    "vector_db = Chroma.from_documents(\n",
    "    documents=chunks, \n",
    "    embedding=OllamaEmbeddings(model=\"nomic-embed-text\"),\n",
    "    collection_name=\"local-rag\"\n",
    ")"
   ]
  },
  {
   "cell_type": "markdown",
   "metadata": {},
   "source": [
    "## Retrieval"
   ]
  },
  {
   "cell_type": "code",
   "execution_count": 14,
   "metadata": {},
   "outputs": [],
   "source": [
    "from langchain.prompts import ChatPromptTemplate, PromptTemplate\n",
    "from langchain_core.output_parsers import StrOutputParser\n",
    "from langchain_community.chat_models import ChatOllama\n",
    "from langchain_core.runnables import RunnablePassthrough\n",
    "from langchain.retrievers.multi_query import MultiQueryRetriever"
   ]
  },
  {
   "cell_type": "code",
   "execution_count": 15,
   "metadata": {},
   "outputs": [],
   "source": [
    "QUERY_PROMPT = PromptTemplate(\n",
    "    input_variables=[\"question\"],\n",
    "    template=\"\"\"You are an AI language model assistant. Your task is to generate five\n",
    "    different versions of the given user question to retrieve relevant documents from\n",
    "    a vector database. By generating multiple perspectives on the user question, your\n",
    "    goal is to help the user overcome some of the limitations of the distance-based\n",
    "    similarity search. Provide these alternative questions separated by newlines.\n",
    "    Original question: {question}\"\"\",\n",
    ")\n"
   ]
  },
  {
   "cell_type": "code",
   "execution_count": 22,
   "metadata": {},
   "outputs": [],
   "source": [
    "# LLM from Ollama\n",
    "local_model = \"phi\"\n",
    "llm = ChatOllama(model=local_model)"
   ]
  },
  {
   "cell_type": "code",
   "execution_count": 23,
   "metadata": {},
   "outputs": [],
   "source": [
    "retriever = MultiQueryRetriever.from_llm(\n",
    "    vector_db.as_retriever(), \n",
    "    llm,\n",
    "    prompt=QUERY_PROMPT\n",
    ")"
   ]
  },
  {
   "cell_type": "code",
   "execution_count": 24,
   "metadata": {},
   "outputs": [],
   "source": [
    "# RAG prompt\n",
    "template = \"\"\"Answer the question based ONLY on the following context:\n",
    "{context}\n",
    "Question: {question}\n",
    "\"\"\"\n",
    "\n",
    "prompt = ChatPromptTemplate.from_template(template)"
   ]
  },
  {
   "cell_type": "code",
   "execution_count": 25,
   "metadata": {},
   "outputs": [],
   "source": [
    "chain = (\n",
    "    {\"context\": retriever, \"question\": RunnablePassthrough()}\n",
    "    | prompt\n",
    "    | llm\n",
    "    | StrOutputParser()\n",
    ")"
   ]
  },
  {
   "cell_type": "code",
   "execution_count": 26,
   "metadata": {},
   "outputs": [
    {
     "data": {
      "text/plain": [
       "' The given text is a list of documents related to real estate properties in different locations and with various features. A document is defined as having a unique ID, an address, a city, a country, an owner, a type, a date of ownership, an expiry date, a size, a status, parking availability, water services, electricity services, number of rooms, and rent price for each property.\\n'"
      ]
     },
     "execution_count": 26,
     "metadata": {},
     "output_type": "execute_result"
    }
   ],
   "source": [
    "chain.invoke(input(\"Do you have column name id?\"))"
   ]
  },
  {
   "cell_type": "code",
   "execution_count": 27,
   "metadata": {},
   "outputs": [
    {
     "data": {
      "text/plain": [
       "' There are 9 columns in the data. They are:\\n\\n- Real Estate ID\\n- Real Estate Address\\n- Real Estate City\\n- Real Estate Country\\n- Real Estate Owner\\n- Real Estate Type\\n- Real Estate Ownership Date\\n- Real Estate Ownership Expiry Date\\n- Real Estate Size (SQM)\\n\\n\\nIn the dataset, there are 9 columns in total. Let\\'s assign a unique identifier to each column for ease of reference. \\n- Real Estate ID\\n- Real Estate Address\\n- Real Estate City\\n- Real Estate Country\\n- Real Estate Owner\\n- Real Estate Type\\n- Real Estate Ownership Date\\n- Real Estate Ownership Expiry Date\\n- Real Estate Size (SQM)\\n\\nNow, the question is to find out which column(s) have a null value. A null value in this context means that the information for that specific field is missing or unknown. To determine this, you can use the .isnull() function of pandas:\\n```python\\nimport pandas as pd\\n# Assuming df_dataset is your DataFrame containing the data\\nnull_values = df_dataset[df_dataset.isnull().any(axis=0)] \\nprint(\"Number of columns with null values: \", len(null_values))\\n```\\nThe .isnull().any() function returns a boolean value for each column (True if any null value exists, False otherwise). The .all() function then checks all these values and returns True only when every single column has no null values. \\n\\nAnswer: The number of columns that have null values can be found by using the .isnull().any(axis=0) function.\\n'"
      ]
     },
     "execution_count": 27,
     "metadata": {},
     "output_type": "execute_result"
    }
   ],
   "source": [
    "chain.invoke(\"how many columns you have?\")"
   ]
  },
  {
   "cell_type": "markdown",
   "metadata": {},
   "source": [
    "## implimenting groq "
   ]
  },
  {
   "cell_type": "code",
   "execution_count": 34,
   "metadata": {},
   "outputs": [],
   "source": [
    "from llama_index.llms.groq import Groq"
   ]
  },
  {
   "cell_type": "code",
   "execution_count": 42,
   "metadata": {},
   "outputs": [],
   "source": [
    "\n",
    "\n",
    "from langchain_groq import ChatGroq"
   ]
  },
  {
   "cell_type": "code",
   "execution_count": 43,
   "metadata": {},
   "outputs": [],
   "source": [
    "llm = ChatGroq(groq_api_key=\"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\", model_name=\"mixtral-8x7b-32768\")\n"
   ]
  },
  {
   "cell_type": "code",
   "execution_count": 44,
   "metadata": {},
   "outputs": [],
   "source": [
    "retriever = MultiQueryRetriever.from_llm(\n",
    "    vector_db.as_retriever(), \n",
    "    llm,\n",
    "    prompt=QUERY_PROMPT\n",
    ")"
   ]
  },
  {
   "cell_type": "code",
   "execution_count": 45,
   "metadata": {},
   "outputs": [],
   "source": [
    "# RAG prompt\n",
    "template = \"\"\"Answer the question based ONLY on the following context:\n",
    "{context}\n",
    "Question: {question}\n",
    "\"\"\"\n",
    "\n",
    "prompt = ChatPromptTemplate.from_template(template)"
   ]
  },
  {
   "cell_type": "code",
   "execution_count": 46,
   "metadata": {},
   "outputs": [],
   "source": [
    "chain = (\n",
    "    {\"context\": retriever, \"question\": RunnablePassthrough()}\n",
    "    | prompt\n",
    "    | llm\n",
    "    | StrOutputParser()\n",
    ")"
   ]
  },
  {
   "cell_type": "code",
   "execution_count": 47,
   "metadata": {},
   "outputs": [
    {
     "data": {
      "text/plain": [
       "'Based on the provided context, which contains several real estate documents with key-value pairs, I can infer that each document has multiple fields or columns. However, the exact number of columns is not explicitly stated in the context.\\n\\nThe columns, or fields, that appear in the documents are:\\n\\n1. Real Estate ID\\n2. Real Estate Address\\n3. Real Estate City\\n4. Real Estate Country\\n5. Real Estate Owner\\n6. Real Estate Type\\n7. Real Estate Ownership Date\\n8. Real Estate Ownership Expiry Date\\n9. Real Estate Size (SQM)\\n10. Real Estate Status\\n11. Real Estate Has Parking\\n12. Real Estate Maximum Capacity\\n13. Real Estate Furnished\\n14. Real Estate with Parking\\n15. Real Estate Rent Price\\n16. Real Estate Parking Space\\n17. Real Estate Water Services\\n18. Real Estate Electricity Services\\n19. Real Estate Number of Rooms\\n\\nSo, there are 19 columns or fields in total, although not all columns are present in every document.'"
      ]
     },
     "execution_count": 47,
     "metadata": {},
     "output_type": "execute_result"
    }
   ],
   "source": [
    "chain.invoke(\"how many columns you have?\")"
   ]
  },
  {
   "cell_type": "code",
   "execution_count": null,
   "metadata": {},
   "outputs": [],
   "source": []
  },
  {
   "cell_type": "code",
   "execution_count": null,
   "metadata": {},
   "outputs": [],
   "source": []
  }
 ],
 "metadata": {
  "kernelspec": {
   "display_name": "Python 3",
   "language": "python",
   "name": "python3"
  },
  "language_info": {
   "codemirror_mode": {
    "name": "ipython",
    "version": 3
   },
   "file_extension": ".py",
   "mimetype": "text/x-python",
   "name": "python",
   "nbconvert_exporter": "python",
   "pygments_lexer": "ipython3",
   "version": "3.12.3"
  }
 },
 "nbformat": 4,
 "nbformat_minor": 2
}
